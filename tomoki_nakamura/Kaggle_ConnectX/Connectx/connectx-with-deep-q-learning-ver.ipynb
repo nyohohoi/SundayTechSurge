{
 "cells": [
  {
   "cell_type": "markdown",
   "metadata": {},
   "source": [
    "- このnotebookは、元の偉大なnotebookを日本語に翻訳して学びやすくするために作成しました\n",
    "(This notebook was created to translate the original great notebook into Japanese to make it easier to learn!)\n",
    "- たまに、上記カーネル以外にも日本語で適宜補足解説を加えています\n",
    "(Occasionally, supplementary explanations are added in Japanese.)\n",
    "- upvoteはこのnotebookではなく[元のnotebook](https://www.kaggle.com/phunghieu/connectx-with-deep-q-learning)にお願いします\n",
    "(Please upvote to [original great notebook](https://www.kaggle.com/phunghieu/connectx-with-deep-q-learning), not this notebook. Thanks!)"
   ]
  },
  {
   "cell_type": "markdown",
   "metadata": {},
   "source": [
    "# About Reinforcement Learning and Deep Q-Learning\n",
    "\n",
    "強化学習とは、報酬を最大化するために、環境の中から特定の状態で特定の行動を取るようにエージェントを訓練することに重点を置いた機械学習の一分野である。<BR>\n",
    "DQN(Deep Q-Net)は、エージェントが各状態で取ることができる行動を見つけるために深層学習モデルを構築する強化学習アルゴリズムです。\n",
    "> \"Reinforcement learning is an area of machine learning that is focused on training agents to take certain actions at certain states from within an environment to maximize rewards. DQN (Deep Q-Net) is a reinforcement learning algorithm where a deep learning model is built to find the actions an agent can take at each state.\" [*Siwei Xu's tutorial\n",
    "*](https://towardsdatascience.com/deep-reinforcement-learning-build-a-deep-q-network-dqn-to-play-cartpole-with-tensorflow-2-and-gym-8e105744b998)"
   ]
  },
  {
   "cell_type": "markdown",
   "metadata": {},
   "source": [
    "<a class=\"anchor\" id=\"ToC\"></a>\n",
    "# Table of Contents\n",
    "1. [Install libraries](#install_libraries)\n",
    "1. [Import libraries](#import_libraries)\n",
    "1. [Define useful classes](#define_useful_classes)\n",
    "1. [Define helper-functions](#define_helper_functions)\n",
    "1. [Create ConnectX environment](#create_connectx_environment)\n",
    "1. [Configure hyper-parameters](#configure_hyper_parameters)\n",
    "1. [Train the agent](#train_the_agent)\n",
    "1. [Save weights](#save_weights)\n",
    "1. [Create an agent](#create_an_agent)\n",
    "1. [Evaluate the agent](#evaluate_the_agent)"
   ]
  },
  {
   "cell_type": "markdown",
   "metadata": {},
   "source": [
    "<a class=\"anchor\" id=\"install_libraries\"></a>\n",
    "# Install libraries\n",
    "[Back to Table of Contents](#ToC)"
   ]
  },
  {
   "cell_type": "markdown",
   "metadata": {},
   "source": [
    "- kaggleが用意してくれてる強化学習用の環境\n",
    "- 公式(https://github.com/Kaggle/kaggle-environments) には以下のように書いてあります\n",
    "\n",
    "> Kaggle Environments was created to evaluate episodes. While other libraries have set interface precedents (such as Open.ai Gym), the emphasis of this library focuses on:\n",
    "> Episode evaluation (compared to training agents).\n",
    "> Configurable environment/agent lifecycles.\n",
    "> Simplified agent and environment creation.\n",
    "> Cross language compatible/transpilable syntax/interfaces.\n",
    "\n",
    "特に「エピソードの評価」や「エージェントや環境の作成をシンプルに」することを意図して作られているようです。<BR>また、他のインターフェース（openai.gymなど）との互換性も意識しているようです。"
   ]
  },
  {
   "cell_type": "code",
   "execution_count": 1,
   "metadata": {
    "_cell_guid": "b1076dfc-b9ad-4769-8c92-a6c4dae69d19",
    "_uuid": "8f2839f25d086af736a60e9eeb907d3b93b6e0e5"
   },
   "outputs": [],
   "source": [
    "# !pip install 'kaggle-environments==0.1.6' > /dev/null 2>&1"
   ]
  },
  {
   "cell_type": "markdown",
   "metadata": {},
   "source": [
    "<a class=\"anchor\" id=\"import_libraries\"></a>\n",
    "# Import libraries\n",
    "[Back to Table of Contents](#ToC)"
   ]
  },
  {
   "cell_type": "code",
   "execution_count": 2,
   "metadata": {
    "_cell_guid": "79c7e3d0-c299-4dcb-8224-4455121ee9b0",
    "_uuid": "d629ff2d2480ee46fbb7e2d37f6b5fab8052498a"
   },
   "outputs": [],
   "source": [
    "import numpy as np\n",
    "import gym\n",
    "import tensorflow as tf\n",
    "import matplotlib.pyplot as plt\n",
    "from tqdm.notebook import tqdm\n",
    "from kaggle_environments import evaluate, make"
   ]
  },
  {
   "cell_type": "markdown",
   "metadata": {},
   "source": [
    "<a class=\"anchor\" id=\"define_useful_classes\"></a>\n",
    "# Define useful classes\n",
    "\n",
    "このnotebookでは、[*Siwei Xu's さんのtutorial*](https://towardsdatascience.com/deep-reinforcement-learning-build-a-deep-q-network-dqn-to-play-cartpole-with-tensorflow-2-and-gym-8e105744b998)の内容をベースにNNを組んでいます\n",
    "\n",
    "> NOTE: I use the neural network in [*Siwei Xu's tutorial\n",
    "> *](https://towardsdatascience.com/deep-reinforcement-learning-build-a-deep-q-network-dqn-to-play-cartpole-with-tensorflow-2-and-gym-8e105744b998) with some proper modifications to adapt to the problem in ConnectX competition and be able to save trained and load pre-trained models.\n",
    "> \n",
    "\n",
    "\n",
    "[Back to Table of Contents](#ToC)"
   ]
  },
  {
   "cell_type": "markdown",
   "metadata": {},
   "source": [
    "ConnectXの環境作り。\n",
    "基本的なメソッドについては、こちらの[Qiita記事](https://qiita.com/ishizakiiii/items/75bc2176a1e0b65bdd16)がわかりやすいと思います"
   ]
  },
  {
   "cell_type": "code",
   "execution_count": 3,
   "metadata": {},
   "outputs": [],
   "source": [
    "# 基本的なConnectXの環境作成クラス\n",
    "\n",
    "class ConnectX(gym.Env):\n",
    "    def __init__(self, switch_prob=0.5):\n",
    "        self.env = make('connectx', debug=False)\n",
    "        self.pair = [None, 'random']\n",
    "        self.trainer = self.env.train(self.pair)\n",
    "        self.switch_prob = switch_prob\n",
    "\n",
    "        # Define required gym fields (examples):\n",
    "        config = self.env.configuration\n",
    "        self.action_space = gym.spaces.Discrete(config.columns) #アクションを行う範囲（離散値：7）\n",
    "        self.observation_space = gym.spaces.Discrete(config.columns * config.rows) #取り得る状態（6行7列=42）\n",
    "\n",
    "    def switch_trainer(self):\n",
    "        self.pair = self.pair[::-1]\n",
    "        self.trainer = self.env.train(self.pair)\n",
    "\n",
    "    def step(self, action):\n",
    "        return self.trainer.step(action)\n",
    "    \n",
    "    def reset(self):\n",
    "        if np.random.random() < self.switch_prob:\n",
    "            self.switch_trainer()\n",
    "        return self.trainer.reset()\n",
    "    \n",
    "    def render(self, **kwargs):\n",
    "        return self.env.render(**kwargs)\n",
    "    "
   ]
  },
  {
   "cell_type": "code",
   "execution_count": 4,
   "metadata": {},
   "outputs": [],
   "source": [
    "# ネットワークの構築クラス\n",
    "# Inputは（バッチサイズ（行） × 状態（42列））、outputは（バッチサイズ（行） × 行動（7列））\n",
    "\n",
    "class DeepModel(tf.keras.Model):\n",
    "    def __init__(self, num_states, hidden_units, num_actions):\n",
    "        super(DeepModel, self).__init__()\n",
    "        self.input_layer = tf.keras.layers.InputLayer(input_shape=(num_states,))\n",
    "        self.hidden_layers = []\n",
    "        for i in hidden_units:\n",
    "            self.hidden_layers.append(tf.keras.layers.Dense(\n",
    "                i, activation='sigmoid', kernel_initializer='RandomNormal'))\n",
    "        self.output_layer = tf.keras.layers.Dense(\n",
    "            num_actions, activation='linear', kernel_initializer='RandomNormal')\n",
    "\n",
    "#     @tf.function\n",
    "    def call(self, inputs):\n",
    "        z = self.input_layer(inputs)\n",
    "        for layer in self.hidden_layers:\n",
    "            z = layer(z)\n",
    "        output = self.output_layer(z)\n",
    "        return output\n"
   ]
  },
  {
   "cell_type": "markdown",
   "metadata": {},
   "source": [
    "- このカーネルの肝になるDQNクラス"
   ]
  },
  {
   "cell_type": "code",
   "execution_count": 5,
   "metadata": {},
   "outputs": [],
   "source": [
    "class DQN:\n",
    "    def __init__(self, num_states, num_actions, hidden_units, gamma, max_experiences, min_experiences, batch_size, lr):\n",
    "        self.num_actions = num_actions\n",
    "        self.batch_size = batch_size\n",
    "        self.optimizer = tf.optimizers.Adam(lr)\n",
    "        self.gamma = gamma\n",
    "        self.model = DeepModel(num_states, hidden_units, num_actions)\n",
    "        self.experience = {'s': [], 'a': [], 'r': [], 's2': [], 'done': []} # The buffer\n",
    "        self.max_experiences = max_experiences\n",
    "        self.min_experiences = min_experiences\n",
    "\n",
    "    def predict(self, inputs):\n",
    "        # stateから行動を予測。batch sizeのstateもsingle stateにも対応するためにnp.atleast_2dを利用\n",
    "        # np.atleast_2d:[1, -1]にreshapeするやつ\n",
    "        # arr = np.arange(0, 5) print(np.atleast_2d(arr)) [[0 1 2 3 4]]\n",
    "        return self.model(np.atleast_2d(inputs.astype('float32')))\n",
    "\n",
    "#     @tf.function\n",
    "    def train(self, TargetNet):\n",
    "        if len(self.experience['s']) < self.min_experiences:\n",
    "            # Only start the training process when we have enough experiences in the buffer\n",
    "            return 0\n",
    "\n",
    "        # Randomly select n experience in the buffer, n is batch-size\n",
    "        ids = np.random.randint(low=0, high=len(self.experience['s']), size=self.batch_size)\n",
    "        states = np.asarray([self.preprocess(self.experience['s'][i]) for i in ids])\n",
    "        actions = np.asarray([self.experience['a'][i] for i in ids])\n",
    "        rewards = np.asarray([self.experience['r'][i] for i in ids])\n",
    "\n",
    "        # Prepare labels for training process\n",
    "        states_next = np.asarray([self.preprocess(self.experience['s2'][i]) for i in ids])\n",
    "        dones = np.asarray([self.experience['done'][i] for i in ids])\n",
    "        value_next = np.max(TargetNet.predict(states_next), axis=1)\n",
    "        actual_values = np.where(dones, rewards, rewards+self.gamma*value_next)\n",
    "        \n",
    "        # 損失関数の定義\n",
    "        with tf.GradientTape() as tape:\n",
    "            selected_action_values = tf.math.reduce_sum(\n",
    "                self.predict(states) * tf.one_hot(actions, self.num_actions), axis=1)\n",
    "            loss = tf.math.reduce_sum(tf.square(actual_values - selected_action_values))\n",
    "        variables = self.model.trainable_variables\n",
    "        # 勾配を定義\n",
    "        gradients = tape.gradient(loss, variables)\n",
    "        # 勾配を最小化\n",
    "        self.optimizer.apply_gradients(zip(gradients, variables))\n",
    "    \n",
    "\n",
    "    # Get an action by using epsilon-greedy\n",
    "    def get_action(self, state, epsilon):\n",
    "        if np.random.random() < epsilon:\n",
    "            return int(np.random.choice([c for c in range(self.num_actions) if state.board[c] == 0]))\n",
    "        else:\n",
    "            prediction = self.predict(np.atleast_2d(self.preprocess(state)))[0].numpy()\n",
    "            for i in range(self.num_actions):\n",
    "                if state.board[i] != 0:\n",
    "                    prediction[i] = -1e7\n",
    "            return int(np.argmax(prediction))\n",
    "\n",
    "    # Method used to manage the buffer\n",
    "    def add_experience(self, exp):\n",
    "        if len(self.experience['s']) >= self.max_experiences:\n",
    "            for key in self.experience.keys():\n",
    "                self.experience[key].pop(0)\n",
    "        for key, value in exp.items():\n",
    "            self.experience[key].append(value)\n",
    "\n",
    "    def copy_weights(self, TrainNet):\n",
    "        variables1 = self.model.trainable_variables\n",
    "        variables2 = TrainNet.model.trainable_variables\n",
    "        for v1, v2 in zip(variables1, variables2):\n",
    "            v1.assign(v2.numpy())\n",
    "\n",
    "    def save_weights(self, path):\n",
    "        self.model.save_weights(path)\n",
    "\n",
    "    def load_weights(self, path):\n",
    "        ref_model = tf.keras.Sequential()\n",
    "\n",
    "        ref_model.add(self.model.input_layer)\n",
    "        for layer in self.model.hidden_layers:\n",
    "            ref_model.add(layer)\n",
    "        ref_model.add(self.model.output_layer)\n",
    "\n",
    "        ref_model.load_weights(path)\n",
    "    \n",
    "    # Each state will consist of the board and the mark\n",
    "    # in the observations\n",
    "    def preprocess(self, state):\n",
    "        result = state.board[:]\n",
    "        result.append(state.mark)\n",
    "\n",
    "        return result"
   ]
  },
  {
   "cell_type": "markdown",
   "metadata": {},
   "source": [
    "<a class=\"anchor\" id=\"define_helper_functions\"></a>\n",
    "# Define helper-functions\n",
    "[Back to Table of Contents](#ToC)"
   ]
  },
  {
   "cell_type": "markdown",
   "metadata": {},
   "source": [
    "- play_game関数\n",
    "    - gameをplayした報酬を返す\n",
    "    - （どうplayする？）ε-greedyという「ランダム探索と最適行動を適宜繰り返す（ランダム行動の確率はεで定義し、徐々に減らしていく）」行動を行いそれぞれの報酬を返す\n",
    "    - （最適行動って？）最適行動はNN(TrainNet）でQ値を予測して選択される\n",
    "    - （NNの学習はどうしてるの？）NNの学習は行動を一定以上行った後、実際のQ値とNNで予測したQ値の差を小さくするように層の重みを学習する\n",
    "    - （「実際のQ値」はどう算出している？）max(実際に得られた報酬＋次の状態のQ値)\n",
    "    - （「次の状態のQ値」はどう算出している？）別のNN(TargetNet）で予測している\n",
    "    - （なぜ別のネットワークが必要？）Q値をNNで求める際に重みを固定しておいた方が出てくるQ値が安定する＝学習も安定するから（ただし、ある程度学習を進めた毎にTargetNetの重みも更新される）"
   ]
  },
  {
   "cell_type": "code",
   "execution_count": 6,
   "metadata": {},
   "outputs": [],
   "source": [
    "def play_game(env, TrainNet, TargetNet, epsilon, copy_step):\n",
    "    rewards = 0\n",
    "    iter = 0\n",
    "    done = False\n",
    "    observations = env.reset()\n",
    "    while not done:\n",
    "        # epsilon-greedyで行動を選択\n",
    "        action = TrainNet.get_action(observations, epsilon)\n",
    "\n",
    "        # 前の状態\n",
    "        prev_observations = observations\n",
    "\n",
    "        # env.stepで報酬・次の状態・ゲーム終了フラグが得られる\n",
    "        observations, reward, done, _ = env.step(action)\n",
    "\n",
    "        # Apply new rules\n",
    "        if done:\n",
    "            if reward == 1: # Won\n",
    "                reward = 20\n",
    "            elif reward == 0: # Lost\n",
    "                reward = -20\n",
    "            else: # Draw\n",
    "                reward = 10\n",
    "        else:\n",
    "            reward = -0.05 # 長くプレイしすぎないように\n",
    "\n",
    "        rewards += reward\n",
    "\n",
    "        # 前の状態・行動・報酬・今の状態・ゲーム終了フラグを情報として追加\n",
    "        exp = {'s': prev_observations, 'a': action, 'r': reward, 's2': observations, 'done': done}\n",
    "        TrainNet.add_experience(exp)\n",
    "\n",
    "        # 追加した情報で学習（TrainNetとは別に、次のQ値を予測するためのTargetNetも用いる）\n",
    "        TrainNet.train(TargetNet)\n",
    "        iter += 1\n",
    "        if iter % copy_step == 0:\n",
    "            # 一定回数学習したら、TargetNetの重みを更新する\n",
    "            TargetNet.copy_weights(TrainNet)\n",
    "    return rewards"
   ]
  },
  {
   "cell_type": "markdown",
   "metadata": {},
   "source": [
    "<a class=\"anchor\" id=\"create_connectx_environment\"></a>\n",
    "# Create ConnectX environment\n",
    "[Back to Table of Contents](#ToC)"
   ]
  },
  {
   "cell_type": "code",
   "execution_count": 7,
   "metadata": {},
   "outputs": [],
   "source": [
    "env = ConnectX()"
   ]
  },
  {
   "cell_type": "markdown",
   "metadata": {},
   "source": [
    "<a class=\"anchor\" id=\"configure_hyper_parameters\"></a>\n",
    "# Configure hyper-parameters\n",
    "[Back to Table of Contents](#ToC)"
   ]
  },
  {
   "cell_type": "code",
   "execution_count": 8,
   "metadata": {},
   "outputs": [],
   "source": [
    "gamma = 0.99\n",
    "copy_step = 25\n",
    "hidden_units = [100, 200, 200, 100]\n",
    "max_experiences = 10000\n",
    "min_experiences = 100\n",
    "batch_size = 32\n",
    "lr = 1e-2\n",
    "epsilon = 0.99\n",
    "decay = 0.99999\n",
    "min_epsilon = 0.1\n",
    "episodes = 10000\n",
    "\n",
    "precision = 7\n",
    "\n",
    "# log_dir = 'logs/'\n",
    "# summary_writer = tf.summary.create_file_writer(log_dir)"
   ]
  },
  {
   "cell_type": "markdown",
   "metadata": {},
   "source": [
    "<a class=\"anchor\" id=\"train_the_agent\"></a>\n",
    "# Train the agent\n",
    "[Back to Table of Contents](#ToC)"
   ]
  },
  {
   "cell_type": "code",
   "execution_count": 9,
   "metadata": {},
   "outputs": [
    {
     "name": "stderr",
     "output_type": "stream",
     "text": [
      "/Users/nakamurayuuki/Documents/日曜勉強会/SundayTechSurge/tomoki_nakamura/Kaggle コンペ調査/Connectx/.connectx-env/lib/python3.10/site-packages/keras/src/layers/core/input_layer.py:26: UserWarning: Argument `input_shape` is deprecated. Use `shape` instead.\n",
      "  warnings.warn(\n"
     ]
    }
   ],
   "source": [
    "num_states = env.observation_space.n + 1\n",
    "num_actions = env.action_space.n\n",
    "\n",
    "all_total_rewards = np.empty(episodes)\n",
    "all_avg_rewards = np.empty(episodes) # Last 100 steps\n",
    "all_epsilons = np.empty(episodes)\n",
    "\n",
    "# Initialize models\n",
    "TrainNet = DQN(num_states, num_actions, hidden_units, gamma, max_experiences, min_experiences, batch_size, lr)\n",
    "TargetNet = DQN(num_states, num_actions, hidden_units, gamma, max_experiences, min_experiences, batch_size, lr)"
   ]
  },
  {
   "cell_type": "markdown",
   "metadata": {},
   "source": [
    "- game_play関数を繰り返し、Q値を学習\n",
    "- 得られた報酬をグラフ化"
   ]
  },
  {
   "cell_type": "code",
   "execution_count": 11,
   "metadata": {},
   "outputs": [
    {
     "data": {
      "application/vnd.jupyter.widget-view+json": {
       "model_id": "ecd8540649754b558c959562a235a8a6",
       "version_major": 2,
       "version_minor": 0
      },
      "text/plain": [
       "  0%|          | 0/10000 [00:00<?, ?it/s]"
      ]
     },
     "metadata": {},
     "output_type": "display_data"
    },
    {
     "ename": "TypeError",
     "evalue": "Exception encountered when calling DeepModel.call().\n\n\u001b[1mtoo many positional arguments\u001b[0m\n\nArguments received by DeepModel.call():\n  • inputs=tf.Tensor(shape=(1, 43), dtype=float32)",
     "output_type": "error",
     "traceback": [
      "\u001b[0;31m---------------------------------------------------------------------------\u001b[0m",
      "\u001b[0;31mTypeError\u001b[0m                                 Traceback (most recent call last)",
      "Cell \u001b[0;32mIn[11], line 4\u001b[0m\n\u001b[1;32m      2\u001b[0m \u001b[38;5;28;01mfor\u001b[39;00m n \u001b[38;5;129;01min\u001b[39;00m pbar:\n\u001b[1;32m      3\u001b[0m     epsilon \u001b[38;5;241m=\u001b[39m \u001b[38;5;28mmax\u001b[39m(min_epsilon, epsilon \u001b[38;5;241m*\u001b[39m decay)\n\u001b[0;32m----> 4\u001b[0m     total_reward \u001b[38;5;241m=\u001b[39m \u001b[43mplay_game\u001b[49m\u001b[43m(\u001b[49m\u001b[43menv\u001b[49m\u001b[43m,\u001b[49m\u001b[43m \u001b[49m\u001b[43mTrainNet\u001b[49m\u001b[43m,\u001b[49m\u001b[43m \u001b[49m\u001b[43mTargetNet\u001b[49m\u001b[43m,\u001b[49m\u001b[43m \u001b[49m\u001b[43mepsilon\u001b[49m\u001b[43m,\u001b[49m\u001b[43m \u001b[49m\u001b[43mcopy_step\u001b[49m\u001b[43m)\u001b[49m\n\u001b[1;32m      5\u001b[0m     all_total_rewards[n] \u001b[38;5;241m=\u001b[39m total_reward\n\u001b[1;32m      6\u001b[0m     avg_reward \u001b[38;5;241m=\u001b[39m all_total_rewards[\u001b[38;5;28mmax\u001b[39m(\u001b[38;5;241m0\u001b[39m, n \u001b[38;5;241m-\u001b[39m \u001b[38;5;241m100\u001b[39m):(n \u001b[38;5;241m+\u001b[39m \u001b[38;5;241m1\u001b[39m)]\u001b[38;5;241m.\u001b[39mmean()\n",
      "Cell \u001b[0;32mIn[6], line 8\u001b[0m, in \u001b[0;36mplay_game\u001b[0;34m(env, TrainNet, TargetNet, epsilon, copy_step)\u001b[0m\n\u001b[1;32m      5\u001b[0m observations \u001b[38;5;241m=\u001b[39m env\u001b[38;5;241m.\u001b[39mreset()\n\u001b[1;32m      6\u001b[0m \u001b[38;5;28;01mwhile\u001b[39;00m \u001b[38;5;129;01mnot\u001b[39;00m done:\n\u001b[1;32m      7\u001b[0m     \u001b[38;5;66;03m# epsilon-greedyで行動を選択\u001b[39;00m\n\u001b[0;32m----> 8\u001b[0m     action \u001b[38;5;241m=\u001b[39m \u001b[43mTrainNet\u001b[49m\u001b[38;5;241;43m.\u001b[39;49m\u001b[43mget_action\u001b[49m\u001b[43m(\u001b[49m\u001b[43mobservations\u001b[49m\u001b[43m,\u001b[49m\u001b[43m \u001b[49m\u001b[43mepsilon\u001b[49m\u001b[43m)\u001b[49m\n\u001b[1;32m     10\u001b[0m     \u001b[38;5;66;03m# 前の状態\u001b[39;00m\n\u001b[1;32m     11\u001b[0m     prev_observations \u001b[38;5;241m=\u001b[39m observations\n",
      "Cell \u001b[0;32mIn[5], line 53\u001b[0m, in \u001b[0;36mDQN.get_action\u001b[0;34m(self, state, epsilon)\u001b[0m\n\u001b[1;32m     51\u001b[0m     \u001b[38;5;28;01mreturn\u001b[39;00m \u001b[38;5;28mint\u001b[39m(np\u001b[38;5;241m.\u001b[39mrandom\u001b[38;5;241m.\u001b[39mchoice([c \u001b[38;5;28;01mfor\u001b[39;00m c \u001b[38;5;129;01min\u001b[39;00m \u001b[38;5;28mrange\u001b[39m(\u001b[38;5;28mself\u001b[39m\u001b[38;5;241m.\u001b[39mnum_actions) \u001b[38;5;28;01mif\u001b[39;00m state\u001b[38;5;241m.\u001b[39mboard[c] \u001b[38;5;241m==\u001b[39m \u001b[38;5;241m0\u001b[39m]))\n\u001b[1;32m     52\u001b[0m \u001b[38;5;28;01melse\u001b[39;00m:\n\u001b[0;32m---> 53\u001b[0m     prediction \u001b[38;5;241m=\u001b[39m \u001b[38;5;28;43mself\u001b[39;49m\u001b[38;5;241;43m.\u001b[39;49m\u001b[43mpredict\u001b[49m\u001b[43m(\u001b[49m\u001b[43mnp\u001b[49m\u001b[38;5;241;43m.\u001b[39;49m\u001b[43matleast_2d\u001b[49m\u001b[43m(\u001b[49m\u001b[38;5;28;43mself\u001b[39;49m\u001b[38;5;241;43m.\u001b[39;49m\u001b[43mpreprocess\u001b[49m\u001b[43m(\u001b[49m\u001b[43mstate\u001b[49m\u001b[43m)\u001b[49m\u001b[43m)\u001b[49m\u001b[43m)\u001b[49m[\u001b[38;5;241m0\u001b[39m]\u001b[38;5;241m.\u001b[39mnumpy()\n\u001b[1;32m     54\u001b[0m     \u001b[38;5;28;01mfor\u001b[39;00m i \u001b[38;5;129;01min\u001b[39;00m \u001b[38;5;28mrange\u001b[39m(\u001b[38;5;28mself\u001b[39m\u001b[38;5;241m.\u001b[39mnum_actions):\n\u001b[1;32m     55\u001b[0m         \u001b[38;5;28;01mif\u001b[39;00m state\u001b[38;5;241m.\u001b[39mboard[i] \u001b[38;5;241m!=\u001b[39m \u001b[38;5;241m0\u001b[39m:\n",
      "Cell \u001b[0;32mIn[5], line 16\u001b[0m, in \u001b[0;36mDQN.predict\u001b[0;34m(self, inputs)\u001b[0m\n\u001b[1;32m     12\u001b[0m \u001b[38;5;28;01mdef\u001b[39;00m \u001b[38;5;21mpredict\u001b[39m(\u001b[38;5;28mself\u001b[39m, inputs):\n\u001b[1;32m     13\u001b[0m     \u001b[38;5;66;03m# stateから行動を予測。batch sizeのstateもsingle stateにも対応するためにnp.atleast_2dを利用\u001b[39;00m\n\u001b[1;32m     14\u001b[0m     \u001b[38;5;66;03m# np.atleast_2d:[1, -1]にreshapeするやつ\u001b[39;00m\n\u001b[1;32m     15\u001b[0m     \u001b[38;5;66;03m# arr = np.arange(0, 5) print(np.atleast_2d(arr)) [[0 1 2 3 4]]\u001b[39;00m\n\u001b[0;32m---> 16\u001b[0m     \u001b[38;5;28;01mreturn\u001b[39;00m \u001b[38;5;28;43mself\u001b[39;49m\u001b[38;5;241;43m.\u001b[39;49m\u001b[43mmodel\u001b[49m\u001b[43m(\u001b[49m\u001b[43mnp\u001b[49m\u001b[38;5;241;43m.\u001b[39;49m\u001b[43matleast_2d\u001b[49m\u001b[43m(\u001b[49m\u001b[43minputs\u001b[49m\u001b[38;5;241;43m.\u001b[39;49m\u001b[43mastype\u001b[49m\u001b[43m(\u001b[49m\u001b[38;5;124;43m'\u001b[39;49m\u001b[38;5;124;43mfloat32\u001b[39;49m\u001b[38;5;124;43m'\u001b[39;49m\u001b[43m)\u001b[49m\u001b[43m)\u001b[49m\u001b[43m)\u001b[49m\n",
      "File \u001b[0;32m~/Documents/日曜勉強会/SundayTechSurge/tomoki_nakamura/Kaggle コンペ調査/Connectx/.connectx-env/lib/python3.10/site-packages/keras/src/utils/traceback_utils.py:122\u001b[0m, in \u001b[0;36mfilter_traceback.<locals>.error_handler\u001b[0;34m(*args, **kwargs)\u001b[0m\n\u001b[1;32m    119\u001b[0m     filtered_tb \u001b[38;5;241m=\u001b[39m _process_traceback_frames(e\u001b[38;5;241m.\u001b[39m__traceback__)\n\u001b[1;32m    120\u001b[0m     \u001b[38;5;66;03m# To get the full stack trace, call:\u001b[39;00m\n\u001b[1;32m    121\u001b[0m     \u001b[38;5;66;03m# `keras.config.disable_traceback_filtering()`\u001b[39;00m\n\u001b[0;32m--> 122\u001b[0m     \u001b[38;5;28;01mraise\u001b[39;00m e\u001b[38;5;241m.\u001b[39mwith_traceback(filtered_tb) \u001b[38;5;28;01mfrom\u001b[39;00m \u001b[38;5;28;01mNone\u001b[39;00m\n\u001b[1;32m    123\u001b[0m \u001b[38;5;28;01mfinally\u001b[39;00m:\n\u001b[1;32m    124\u001b[0m     \u001b[38;5;28;01mdel\u001b[39;00m filtered_tb\n",
      "Cell \u001b[0;32mIn[4], line 17\u001b[0m, in \u001b[0;36mDeepModel.call\u001b[0;34m(self, inputs)\u001b[0m\n\u001b[1;32m     16\u001b[0m \u001b[38;5;28;01mdef\u001b[39;00m \u001b[38;5;21mcall\u001b[39m(\u001b[38;5;28mself\u001b[39m, inputs):\n\u001b[0;32m---> 17\u001b[0m     z \u001b[38;5;241m=\u001b[39m \u001b[38;5;28;43mself\u001b[39;49m\u001b[38;5;241;43m.\u001b[39;49m\u001b[43minput_layer\u001b[49m\u001b[43m(\u001b[49m\u001b[43minputs\u001b[49m\u001b[43m)\u001b[49m\n\u001b[1;32m     18\u001b[0m     \u001b[38;5;28;01mfor\u001b[39;00m layer \u001b[38;5;129;01min\u001b[39;00m \u001b[38;5;28mself\u001b[39m\u001b[38;5;241m.\u001b[39mhidden_layers:\n\u001b[1;32m     19\u001b[0m         z \u001b[38;5;241m=\u001b[39m layer(z)\n",
      "File \u001b[0;32m~/.pyenv/versions/3.10.12/lib/python3.10/inspect.py:3186\u001b[0m, in \u001b[0;36mSignature.bind\u001b[0;34m(self, *args, **kwargs)\u001b[0m\n\u001b[1;32m   3181\u001b[0m \u001b[38;5;28;01mdef\u001b[39;00m \u001b[38;5;21mbind\u001b[39m(\u001b[38;5;28mself\u001b[39m, \u001b[38;5;241m/\u001b[39m, \u001b[38;5;241m*\u001b[39margs, \u001b[38;5;241m*\u001b[39m\u001b[38;5;241m*\u001b[39mkwargs):\n\u001b[1;32m   3182\u001b[0m \u001b[38;5;250m    \u001b[39m\u001b[38;5;124;03m\"\"\"Get a BoundArguments object, that maps the passed `args`\u001b[39;00m\n\u001b[1;32m   3183\u001b[0m \u001b[38;5;124;03m    and `kwargs` to the function's signature.  Raises `TypeError`\u001b[39;00m\n\u001b[1;32m   3184\u001b[0m \u001b[38;5;124;03m    if the passed arguments can not be bound.\u001b[39;00m\n\u001b[1;32m   3185\u001b[0m \u001b[38;5;124;03m    \"\"\"\u001b[39;00m\n\u001b[0;32m-> 3186\u001b[0m     \u001b[38;5;28;01mreturn\u001b[39;00m \u001b[38;5;28;43mself\u001b[39;49m\u001b[38;5;241;43m.\u001b[39;49m\u001b[43m_bind\u001b[49m\u001b[43m(\u001b[49m\u001b[43margs\u001b[49m\u001b[43m,\u001b[49m\u001b[43m \u001b[49m\u001b[43mkwargs\u001b[49m\u001b[43m)\u001b[49m\n",
      "File \u001b[0;32m~/.pyenv/versions/3.10.12/lib/python3.10/inspect.py:3107\u001b[0m, in \u001b[0;36mSignature._bind\u001b[0;34m(self, args, kwargs, partial)\u001b[0m\n\u001b[1;32m   3105\u001b[0m     param \u001b[38;5;241m=\u001b[39m \u001b[38;5;28mnext\u001b[39m(parameters)\n\u001b[1;32m   3106\u001b[0m \u001b[38;5;28;01mexcept\u001b[39;00m \u001b[38;5;167;01mStopIteration\u001b[39;00m:\n\u001b[0;32m-> 3107\u001b[0m     \u001b[38;5;28;01mraise\u001b[39;00m \u001b[38;5;167;01mTypeError\u001b[39;00m(\u001b[38;5;124m'\u001b[39m\u001b[38;5;124mtoo many positional arguments\u001b[39m\u001b[38;5;124m'\u001b[39m) \u001b[38;5;28;01mfrom\u001b[39;00m \u001b[38;5;28;01mNone\u001b[39;00m\n\u001b[1;32m   3108\u001b[0m \u001b[38;5;28;01melse\u001b[39;00m:\n\u001b[1;32m   3109\u001b[0m     \u001b[38;5;28;01mif\u001b[39;00m param\u001b[38;5;241m.\u001b[39mkind \u001b[38;5;129;01min\u001b[39;00m (_VAR_KEYWORD, _KEYWORD_ONLY):\n\u001b[1;32m   3110\u001b[0m         \u001b[38;5;66;03m# Looks like we have no parameter for this positional\u001b[39;00m\n\u001b[1;32m   3111\u001b[0m         \u001b[38;5;66;03m# argument\u001b[39;00m\n",
      "\u001b[0;31mTypeError\u001b[0m: Exception encountered when calling DeepModel.call().\n\n\u001b[1mtoo many positional arguments\u001b[0m\n\nArguments received by DeepModel.call():\n  • inputs=tf.Tensor(shape=(1, 43), dtype=float32)"
     ]
    }
   ],
   "source": [
    "pbar = tqdm(range(episodes))\n",
    "for n in pbar:\n",
    "    epsilon = max(min_epsilon, epsilon * decay)\n",
    "    total_reward = play_game(env, TrainNet, TargetNet, epsilon, copy_step)\n",
    "    all_total_rewards[n] = total_reward\n",
    "    avg_reward = all_total_rewards[max(0, n - 100):(n + 1)].mean()\n",
    "    all_avg_rewards[n] = avg_reward\n",
    "    all_epsilons[n] = epsilon\n",
    "\n",
    "    pbar.set_postfix({\n",
    "        'episode reward': total_reward,\n",
    "        'avg (100 last) reward': avg_reward,\n",
    "        'epsilon': epsilon\n",
    "    })\n",
    "\n",
    "#     with summary_writer.as_default():\n",
    "#         tf.summary.scalar('episode reward', total_reward, step=n)\n",
    "#         tf.summary.scalar('running avg reward (100)', avg_reward, step=n)\n",
    "#         tf.summary.scalar('epsilon', epsilon, step=n)"
   ]
  },
  {
   "cell_type": "code",
   "execution_count": null,
   "metadata": {},
   "outputs": [],
   "source": [
    "# plt.plot(all_total_rewards)\n",
    "# plt.xlabel('Episode')\n",
    "# plt.ylabel('Total rewards')\n",
    "# plt.show()"
   ]
  },
  {
   "cell_type": "code",
   "execution_count": null,
   "metadata": {},
   "outputs": [
    {
     "data": {
      "image/png": "[encoded data removed]",
      "text/plain": [
       "<Figure size 432x288 with 1 Axes>"
      ]
     },
     "metadata": {
      "needs_background": "light"
     },
     "output_type": "display_data"
    }
   ],
   "source": [
    "plt.plot(all_avg_rewards)\n",
    "plt.xlabel('Episode')\n",
    "plt.ylabel('Avg rewards (100)')\n",
    "plt.show()"
   ]
  },
  {
   "cell_type": "code",
   "execution_count": null,
   "metadata": {},
   "outputs": [
    {
     "data": {
      "image/png": "[encoded data removed]",
      "text/plain": [
       "<Figure size 432x288 with 1 Axes>"
      ]
     },
     "metadata": {
      "needs_background": "light"
     },
     "output_type": "display_data"
    }
   ],
   "source": [
    "plt.plot(all_epsilons)\n",
    "plt.xlabel('Episode')\n",
    "plt.ylabel('Epsilon')\n",
    "plt.show()"
   ]
  },
  {
   "cell_type": "markdown",
   "metadata": {},
   "source": [
    "<a class=\"anchor\" id=\"save_weights\"></a>\n",
    "# Save weights\n",
    "[Back to Table of Contents](#ToC)"
   ]
  },
  {
   "cell_type": "markdown",
   "metadata": {},
   "source": [
    "- weightを保存"
   ]
  },
  {
   "cell_type": "code",
   "execution_count": null,
   "metadata": {},
   "outputs": [],
   "source": [
    "TrainNet.save_weights('./weights.h5')"
   ]
  },
  {
   "cell_type": "markdown",
   "metadata": {},
   "source": [
    "<a class=\"anchor\" id=\"create_an_agent\"></a>\n",
    "# Create an agent\n",
    "[Back to Table of Contents](#ToC)"
   ]
  },
  {
   "cell_type": "markdown",
   "metadata": {},
   "source": [
    "- 得られた重みを文字列で保存"
   ]
  },
  {
   "cell_type": "code",
   "execution_count": null,
   "metadata": {},
   "outputs": [],
   "source": [
    "fc_layers = []\n",
    "\n",
    "# Get all hidden layers' weights\n",
    "for i in range(len(hidden_units)):\n",
    "    fc_layers.extend([\n",
    "        TrainNet.model.hidden_layers[i].weights[0].numpy().tolist(), # weights\n",
    "        TrainNet.model.hidden_layers[i].weights[1].numpy().tolist() # bias\n",
    "    ])\n",
    "\n",
    "# Get output layer's weights\n",
    "fc_layers.extend([\n",
    "    TrainNet.model.output_layer.weights[0].numpy().tolist(), # weights\n",
    "    TrainNet.model.output_layer.weights[1].numpy().tolist() # bias\n",
    "])\n",
    "\n",
    "# Convert all layers into usable form before integrating to final agent\n",
    "fc_layers = list(map(\n",
    "    lambda x: str(list(np.round(x, precision))) \\\n",
    "        .replace('array(', '').replace(')', '') \\\n",
    "        .replace(' ', '') \\\n",
    "        .replace('\\n', ''),\n",
    "    fc_layers\n",
    "))\n",
    "fc_layers = np.reshape(fc_layers, (-1, 2))"
   ]
  },
  {
   "cell_type": "code",
   "execution_count": null,
   "metadata": {},
   "outputs": [
    {
     "data": {
      "text/plain": [
       "(5, 2)"
      ]
     },
     "execution_count": 16,
     "metadata": {},
     "output_type": "execute_result"
    }
   ],
   "source": [
    "fc_layers.shape"
   ]
  },
  {
   "cell_type": "code",
   "execution_count": null,
   "metadata": {},
   "outputs": [
    {
     "data": {
      "text/plain": [
       "'[[0.0580333,0.0240042,-0.1154586,0.1551904,0.2306869,0.0660868,0.1352021,0.1233078,-0.1023744,0.0133442,0.2473091,0.1618967,0.2465961,0.1281778,0.1281388,-0.0381714,0.2420006,-0.2135146,0.1536522,0.1495576,0.2835534,0.1593349,0.2931632,0.0185692,0.1776966,-0.0675732,0.2592394,0.1970894,0.2553628,0.1661805,0.095641,0.205257,-0.1885213,0.1703794,0.0958127,0.1026047,0.1160222,0.0542527,0.2579578,0.0226066,-0.0221363,0.0672268,0.1618375,0.0196429,0.0358082,0.0813081,-0.0740104,0.2151837,-0.0525637,-0.1194441,-0.0877527,0.3056091,0.1300311,0.101513,0.106872,0.0230939,-0.0491901,0.0433491,0.1837129,0.0625183,0.1541195,0.2046533,0.117806,-0.0098331,-0.1301249,0.1744064,0.0471262,0.1652033,-0.1720918,0.4477519,0.1734292,-0.0987881,-0.0423112,0.2859856,0.2226159,-0.0507976,0.2958812,0.1991128,-0.0900785,0.3289235,0.1504927,0.1323886,0.2856707,0.1786754,0.143893,0.4375751,-0.1520022,0.2849642,0.0770939,0.1713488,0.2337194,-0.0645463,0.4614826,0.1081142,0.1335727,0.1404302,0.1770489,0.0543905,0.0855738,-0.1332194],[-0.206474,0.1155625,-0.2153056,0.2106734,0.208735,0.0270297,-0.2383888,0.1009169,0.1128342,0.0953114,-0.2064435,0.1314006,-0.0337717,-0.1005922,-0.2230198,0.1989558,-0.1772789,0.0659086,-0.209077,-0.2134703,-0.132505,-0.2544405,-0.2700847,0.2574503,-0.0474765,0.1679694,0.0622877,0.0224925,-0.1356427,0.2941494,-0.0899891,0.0950159,0.0677915,-0.153322,0.0957837,-0.1714448,0.0566693,0.0709049,0.139726,-0.4409195,0.0480967,-0.0837945,0.2616192,-0.1666135,0.2829553,0.3191244,0.0951023,-0.1232055,0.1908539,-0.0441457,0.2316152,0.0547003,-0.3350007,-0.0873417,0.3242172,-0.2231142,0.2165614,-0.0227368,-0.0123033,0.2020999,0.0067814,0.1232453,-0.0826203,0.1810353,0.214075,-0.4926321,0.116277,0.1700095,-0.1097206,0.0968432,-0.1950547,0.0550246,0.222607,-0.1181379,-0.1588991,0.2032521,-0.1667489,0.2279359,0.2105271,0.2785008,-0.0900526,-0.0920738,-0.0976074,-0.2538541,-0.1538558,-0.1569572,0.240462,0.206137,0.1862091,0.120499,-0.0820088,-0.0488504,-0.0189497,0.1579603,-0.2398697,-0.0856486,0.1538484,-0.3383054,-0.3866743,-0.3355719],[-0.3295722,-0.1598185,-0.2569115,-0.1130289,-0.2646748,0.1061419,0.30391,-0.1905722,0.1793227,-0.5578636,0.1640371,0.0019252,0.3372732,-0.4665558,0.2985683,0.0286219,-0.0668381,-0.0311573,0.1185052,-0.2355048,-0.312417,0.150061,-0.0139911,-0.2235494,0.2350908,0.0314939,-0.3553713,-0.1121105,0.1046451,-0.272555,0.0766204,-0.4884892,-0.1242738,0.0434626,-0.1666106,0.1298555,-0.0685333,-0.3003004,-0.0826554,0.3766389,0.0832032,-0.214429,-0.2705432,-0.3501385,-0.1984582,-0.4224875,-0.1956643,0.1217056,-0.2145427,0.0477633,0.1043069,-0.1284792,0.2050143,0.1040336,-0.2081675,0.1480724,-0.1185935,-0.3884872,0.2712183,-0.1556736,-0.3462579,-0.2045898,-0.0906042,-0.1693687,-0.3087516,0.0100454,-0.053079,-0.0217681,-0.6022957,0.1248201,0.0019543,-0.1438771,-0.1254602,0.4240667,-0.3533093,-0.3184971,-0.3029089,-0.081232,-0.3635743,-0.1938654,0.1364401,-0.432637,-0.0957914,-0.1159359,0.0815159,-0.1660748,-0.1827922,-0.5972551,-0.2937046,0.4426509,0.049567,-0.5984849,-0.0774099,-0.3605897,-0.2869448,-0.1691985,-0.1601874,0.4296055,0.4417482,0.2671834],[-0.9428266,0.9235057,-0.8551658,0.8704592,0.6372196,-0.4675165,-0.6766189,-0.2025839,0.5085105,-0.1912858,-0.2945759,1.1435331,-0.5006934,-0.2375378,-0.1141583,0.7969682,-0.544801,0.2885706,-0.6036204,-0.2071216,-0.327685,-0.3115096,-0.8343891,0.8004571,-0.6780139,0.2011665,-0.4586938,-0.4224011,-0.5887597,0.9662039,-0.3730243,-0.1057225,0.6037749,-0.4958023,-0.2101469,-0.54445,0.6356744,-1.0313585,-0.3601496,-0.6435065,0.5255671,-0.8191532,0.8655126,-0.3156135,1.013208,1.1497667,0.3702937,-0.2196882,0.8055598,0.0282704,0.7976261,-0.7282736,-0.6127894,-0.7332694,0.5953665,-0.4762027,0.8140159,-0.5119358,-0.4738972,0.8928922,0.2424519,0.8826194,-0.4839266,0.9263971,0.8165063,-0.3713757,0.7935,0.9365658,-1.0135059,-0.3432135,-0.5544336,0.2242282,0.8415891,-0.249125,-0.6670493,0.6155708,-0.8274695,0.8529136,0.6232952,-0.9680721,-0.2048063,-0.044394,-0.5611752,-0.7576984,-0.6594253,-0.5813678,0.569994,-0.2345127,1.0841864,-0.8213435,-0.527957,0.2864014,-0.4850041,0.9813022,-0.6716448,-0.9099923,0.4285752,-0.670611,-0.778994,-0.676408],[0.0788869,-0.1104814,0.2092613,-0.2192267,-0.2292345,0.2837858,-0.0926885,-0.0094113,-0.1047721,-0.0437514,0.2795183,-0.153798,0.3314936,-0.2011607,0.1586203,-0.094734,0.0958022,0.0205838,0.0817033,0.1529275,-0.0060347,-0.0062736,0.0782267,-0.2871746,0.1421714,-0.170411,0.2920453,0.1538908,0.0922157,-0.2178466,0.0746381,0.014608,-0.24932,0.0249542,0.0540254,0.2796539,-0.2990187,-0.0142536,-0.0538489,0.1023362,-0.3007285,-0.2301765,-0.208414,-0.2218737,-0.1361434,-0.2008774,-0.222281,-0.0533347,-0.0914552,-0.4208342,-0.1789067,0.5376527,-0.0078354,0.0181261,-0.1588309,0.0363938,-0.180533,0.359591,0.6762264,-0.0865493,0.0389123,-0.1809992,0.1488557,-0.1388955,-0.165084,0.2001873,-0.0682141,-0.0901233,-0.1370689,0.1316536,0.2180749,-0.3286882,-0.1921119,0.1658647,0.1039071,-0.167365,0.2853302,-0.2553423,-0.2435176,0.5759271,0.0807708,0.1502271,0.0853017,0.0260603,0.2444571,0.0856991,-0.2501836,-0.128468,-0.0631953,0.2296864,0.0581626,-0.0778898,0.0368842,-0.1679994,0.2271074,0.0876814,-0.2053327,0.1457926,0.2603517,0.1690142],[-0.0628206,-0.0256151,-0.1627095,-0.1239449,0.0861766,0.1731838,-0.0867741,-0.1863741,0.0192494,-0.3164835,0.3997326,-0.0532385,0.3844223,-0.0745909,0.4745045,0.0549919,0.173266,0.1790655,0.1748182,0.1032078,-0.3278345,0.276694,-0.0786866,-0.0032105,0.4220856,0.1447242,0.2818657,0.3777878,0.0166224,0.0184159,0.1254753,-0.079914,0.120605,0.0478223,0.0958694,0.0076536,0.0293396,-0.1857805,-0.0909631,0.0718318,0.0007147,-0.2351789,-0.0887053,-0.0485411,0.1867262,0.0942433,0.0229596,0.0926397,0.02444,0.0313278,0.0061162,-0.0059786,-0.1184555,0.0751403,0.171863,-0.0380399,0.0814004,0.1114755,0.2115178,0.1639196,-0.1637331,-0.1531108,0.1114035,0.1454517,-0.0356961,0.1978522,0.138076,0.0569276,-0.2955642,0.1601726,0.2378337,-0.0261488,-0.0546407,0.3356426,0.1110849,0.0874936,-0.2062112,-0.0472841,-0.2760656,0.2271166,0.0094544,-0.0023573,-0.1277217,-0.0766763,-0.1157003,-0.0352377,-0.0944949,-0.0400259,-0.035528,0.2686815,0.0262911,-0.3814158,-0.1398145,0.0389876,0.0391492,-0.2889966,0.1028563,0.29121,0.0487678,0.147981],[-0.1327036,-0.1539187,-0.0955633,-0.192936,-0.1880103,0.2753031,0.5490013,-0.2190778,-0.3706739,-0.1197222,0.2333177,-0.0890628,0.3613243,0.3532472,0.1928859,-0.2457588,0.1952263,-0.5307559,0.2763054,0.4975527,0.2416305,0.5519367,0.457,-0.3028323,0.2735682,-0.1505198,-0.2048909,0.5842178,0.4100012,-0.1859775,0.4914246,0.1756991,-0.2695643,0.6988823,-0.1381804,0.4040929,-0.196004,-0.2121093,0.1238502,0.3661346,-0.3664036,0.0367124,-0.2157505,0.0014795,-0.1844738,-0.2737635,-0.0545376,0.3128284,-0.308991,-0.2083795,-0.3676111,0.29379,0.425528,0.2797927,-0.1122759,0.3904379,-0.2815199,-0.3148291,0.4152226,-0.2012035,0.2856479,-0.1798546,0.2925332,-0.2999041,-0.3078418,0.3936153,-0.3473296,-0.148966,0.1036146,0.4438466,-0.076729,-0.1262876,-0.3340407,0.5472786,-0.0159106,-0.209738,-0.0228144,-0.2536257,-0.2902975,0.6568905,0.2551686,0.5467967,0.4205641,0.3647529,0.367988,0.4113587,-0.3638344,0.3121516,-0.2195696,0.1635708,0.2783278,-0.4838473,0.511493,-0.2713143,0.0644714,-0.2586713,-0.1045549,0.3540265,0.1757517,0.2599803],[0.2826922,-0.1568705,0.2696589,-0.1909095,-0.089783,0.4108255,0.3107613,0.3905597,-0.2690089,-0.102373,0.4791957,0.023867,0.5444921,-0.1431222,0.3760341,-0.2292539,0.4298766,-0.460788,0.3538722,0.3288341,0.5384625,0.2009625,0.4961142,-0.2191167,0.4561479,-0.2393316,0.5125458,0.1718852,0.3619283,-0.1754634,0.3878117,0.1379275,-0.3460499,0.2066854,0.3213131,0.4049784,-0.1519437,0.1343629,0.1250289,0.2528492,-0.2485673,-0.1497834,-0.1337249,-0.1592444,-0.2097714,-0.1673125,-0.3408172,0.489618,-0.1458374,-0.3520946,-0.3284273,0.6011178,0.5444894,0.4408958,-0.2956746,0.3191229,-0.2917874,0.292013,0.4516607,-0.3161883,0.2225189,-0.1215925,0.3643987,-0.3502957,-0.3622131,0.388112,-0.3373466,-0.1657343,-0.2822468,0.432754,0.3615682,-0.2668995,-0.2271238,0.5164445,0.3831277,-0.1708443,0.3861341,-0.1590405,-0.307638,0.5058259,0.4216662,0.1689037,0.4514372,0.4152959,0.383206,0.4121502,-0.2841392,-0.0080609,-0.207871,0.3680926,0.4752262,-0.1954123,0.5196373,-0.1258065,0.3687976,0.2174484,-0.1247766,0.2339275,0.2612356,0.3104226],[-0.0547568,-0.1843667,0.0015499,-0.2877553,-0.2387147,0.4721509,0.383885,-0.2286128,-0.1308373,-0.1395801,0.4999371,-0.2939822,0.5144131,-0.2162591,0.5249249,-0.2038144,0.4991837,-0.3956914,0.3196158,0.5165014,0.519341,0.3753811,0.4994315,-0.1838726,0.3785564,-0.2974299,0.493134,0.4856004,0.4524767,-0.2732947,0.3203159,0.2491693,-0.3013965,0.6781175,0.0495946,0.3276003,-0.3717544,-0.2800837,0.1496513,0.2490701,-0.192281,-0.1715815,-0.2416834,-0.1219898,-0.2205581,-0.4435501,-0.3336582,0.5571082,-0.3287208,-0.3637087,-0.2741494,0.7774187,0.4320214,0.500704,-0.2464496,0.2157955,-0.2062697,0.3932683,0.4210168,-0.307044,0.3731009,-0.2844101,0.2799591,-0.2867489,-0.2309017,0.2106351,-0.2373275,-0.2932823,-0.2164109,0.5288599,0.2583731,-0.2708711,-0.259202,0.5236753,0.2449569,-0.2119745,0.377943,-0.2625091,-0.2345831,0.8295082,0.3602188,0.3938924,0.3087785,0.2198422,0.2043063,0.6145199,-0.2995784,-0.0853034,-0.4452496,0.071042,0.5159888,-0.3810675,0.5515627,-0.2681522,0.1852341,-0.0379438,-0.2812368,0.3659019,0.562602,0.444977],[0.1227635,-0.4210577,0.4126036,-0.6869098,-0.3661546,0.5139788,0.497942,0.0109633,-0.4974214,-0.5345265,0.389187,-0.4279316,0.6418541,-0.1373263,0.6470135,-0.4379945,0.43863,-0.2758679,0.4316307,0.3460746,0.0735565,0.4895893,0.4585623,-0.3598143,0.458871,0.0123639,0.2845559,0.0144319,0.3216572,-0.4887224,0.1978877,-0.3130293,-0.3023123,0.4102563,-0.0623256,0.203992,-0.4515431,-0.0600236,-0.0908337,0.6346862,-0.4446769,-0.2705082,-0.5655086,-0.0715844,-0.4911681,-0.5927228,-0.3215697,0.4449746,-0.4755571,-0.292195,-0.4638004,0.2830588,0.3570375,0.5104387,-0.3328196,0.3645237,-0.4871072,0.0419815,0.2620221,-0.2706421,-0.1504314,-0.400432,0.558537,-0.3866977,-0.4621758,0.4051004,-0.4373256,-0.4485541,-0.4146255,0.3120107,0.4236138,-0.242163,-0.5298905,0.37233,-0.0303002,-0.4454677,-0.2455337,-0.2915222,-0.5870026,0.4439754,0.6346086,-0.1072168,-0.1465771,0.2882308,0.5828896,0.0973023,-0.3855551,-0.2092797,-0.5981753,0.5239715,0.1621247,-0.6084059,0.1937059,-0.641739,0.0104026,-0.2064919,-0.3953381,0.5873652,0.4081737,0.5935555],[-0.5282831,0.7011589,-0.3584226,0.5128276,0.2933035,-0.0521982,-0.2476036,-0.0556377,0.0860941,-0.3684346,0.4466284,0.9256446,-0.0955898,-0.3103575,0.393713,0.7167062,0.1959068,-0.0067687,-0.355938,-0.0421502,0.1186058,-0.227498,-0.0041357,0.4417045,-0.3036302,0.1852844,0.0143075,-0.0621487,0.2245768,0.8732158,-0.4464173,0.1746482,0.2765962,0.0812063,0.0684174,0.0576614,0.1897979,-0.8070961,-0.2765583,-0.2350574,0.0128785,-1.0496253,0.6113679,-0.2901466,0.588955,0.9803848,0.1473505,0.3478987,0.4607641,-0.3454618,0.677816,-0.5126346,0.2293305,-0.1611843,0.5248064,-0.2035495,0.5398892,-0.0110757,0.0596917,0.5583149,0.3796685,0.3592975,-0.0928609,0.3788704,0.7803476,0.4123513,0.4448277,0.544549,-1.0800642,0.3693027,-0.035384,0.0348532,0.4292385,-0.0398441,-0.3301506,0.4915361,-0.233431,0.37613,0.516227,-0.6331323,0.1176749,0.0776225,-0.0946853,-0.1034451,-0.4835379,0.2248613,0.275801,-0.1738648,0.903519,-0.7359016,0.2425478,0.0054164,0.5015122,0.8991009,-0.0897486,-0.3612048,0.1984712,-0.2146681,-0.232326,-0.2474949],[0.1544336,-0.3392829,0.1643132,-0.3705115,-0.377504,0.320644,0.2241323,-0.1789925,-0.3492061,-0.0904474,0.3924516,-0.3450439,0.7140377,0.0894708,0.2894144,-0.3384238,0.2208145,-0.3004144,0.3682446,0.2638007,0.1744501,0.3727358,0.398827,-0.2586298,0.3113543,-0.3190337,0.4241723,0.3501639,0.3794908,-0.3859907,0.209394,0.1956765,-0.2559318,0.4661958,0.0381835,0.3290906,-0.3159963,-0.263228,0.1032316,0.351759,-0.3308167,-0.2282736,-0.2584285,-0.0653245,-0.2602393,-0.4582035,-0.3568406,0.1441331,-0.3049977,-0.3656227,-0.3017874,0.2724039,0.1587977,0.2853277,-0.3623875,0.2475435,-0.1970902,0.3926919,0.361842,-0.3425522,0.1035293,-0.2411959,0.3625765,-0.3110828,-0.2475639,0.4739726,-0.2290269,-0.2899657,-0.2349184,0.335568,0.4813318,-0.2195101,-0.3528516,0.2915526,0.2643709,-0.2767648,0.3618269,-0.2311264,-0.4097331,0.5897906,0.2379477,0.159514,0.2054549,0.284851,0.308626,0.277129,-0.4406219,0.2130134,-0.2773548,0.4939752,0.3501408,-0.2019461,0.3779689,-0.4564677,0.3419806,0.2196313,-0.3840914,0.4137995,0.3766899,0.1955985],[-0.7253113,0.8292823,-0.6712492,0.5878741,0.6795939,-0.5706454,-0.5007862,-0.1600037,1.04009,0.0589506,0.2391689,0.8054711,-0.2323218,0.4174539,0.3468257,0.8224847,0.0293797,0.6706336,-0.4539796,-0.0722604,-0.3236455,0.0500996,-0.5808225,0.4846834,-0.5256785,0.5499034,-0.4010595,0.2726538,-0.4097916,0.4736919,-0.1551126,0.2022238,0.3325328,-0.108867,-0.040368,-0.7754404,0.7802332,-0.1218369,-0.1022335,-0.2683925,0.6835886,0.3161625,0.8611953,0.2723019,0.5922786,0.535044,0.6133627,0.1226922,0.6430278,0.7142081,0.6487107,-0.9688015,-0.4206966,-0.1666776,0.5825813,-0.6971114,0.546534,-0.7377892,-0.2817825,0.704776,-0.2770644,0.6458369,-0.6801035,0.7811415,0.5496677,0.0350113,0.6584412,0.6259493,0.2390247,0.1118908,-0.0738614,0.5296745,0.5079563,0.4600684,-0.5598288,0.5125546,-0.6234242,0.7458421,0.7829665,-0.5360819,0.0416489,-0.1769496,-0.670902,-0.8173957,-0.7814769,-0.3655335,0.4456812,0.4434482,0.5868895,0.081478,-0.0370855,0.1771493,-0.29877,0.5229649,-0.3708396,-0.788412,0.5605075,-0.1409118,-0.1045485,-0.4047453],[-0.4918463,-0.3713003,-0.4473511,-0.4353022,-0.2037457,0.1152654,0.0811619,-0.6057732,-0.4451241,-0.2887819,0.2975217,-0.4683343,0.0240125,-0.4358726,0.1220517,-0.3999452,0.4738115,-0.4496028,0.0825532,0.0309529,0.076797,0.0267921,0.4550052,-0.2469331,0.0292922,-0.2614935,-0.2110847,0.6872577,0.4391783,-0.2604257,-0.1467734,-0.0169878,-0.2468753,0.3439743,-0.3996577,0.7637385,-0.5951979,-0.4334756,-0.2462663,0.1510263,-0.4992683,-0.2507512,-0.3207222,-0.2818087,-0.5882515,-0.3588542,-0.0832488,0.3619094,-0.2730037,-0.2390129,-0.3732996,0.2564608,0.4584031,0.4564904,-0.3348981,0.3125133,-0.4108784,-0.2826427,0.4572787,-0.4687435,0.0391086,-0.4591746,0.3604617,-0.3191698,-0.2551109,0.2188589,-0.3781923,-0.7105231,-0.4340539,0.4782381,-0.1622048,-0.1800758,-0.3021225,0.0964442,-0.0412123,-0.1161551,-0.0086212,-0.509024,-0.272552,0.485299,0.2407041,0.3224044,0.3282816,0.451728,0.2155236,0.4482812,-0.37026,-0.225531,-0.4259533,-0.2302602,0.5950181,-0.3485451,0.5226847,-0.1894912,-0.0248266,-0.397135,-0.1650162,0.0048214,0.3060158,0.2543248],[2.770586e-01,2.227279e-01,4.481388e-01,2.138684e-01,-3.518200e-03,1.385410e-01,2.237131e-01,5.917901e-01,2.648530e-02,-2.305008e-01,6.477075e-01,2.913107e-01,1.864721e-01,-1.322237e-01,6.058744e-01,-1.454870e-02,4.991736e-01,3.345236e-01,2.742328e-01,3.685596e-01,4.275176e-01,3.579591e-01,5.498051e-01,-1.001247e-01,1.595383e-01,-1.177554e-01,2.864832e-01,-6.283600e-02,5.373119e-01,1.424451e-01,-6.980760e-02,3.269290e-02,-2.080495e-01,7.392500e-02,6.104929e-01,2.150292e-01,2.053305e-01,6.517712e-01,8.489900e-03,2.717910e-01,3.207497e-01,-1.544760e-02,3.316940e-01,-9.183130e-02,-1.221444e-01,1.201520e-02,-1.419606e-01,5.591885e-01,-6.416370e-02,-1.045671e-01,-8.400000e-06,4.095720e-01,3.757086e-01,4.818751e-01,9.238820e-02,1.501590e-01,-1.589247e-01,1.625660e-01,2.154127e-01,-3.448860e-02,-1.828738e-01,1.150966e-01,9.964970e-02,-2.922140e-02,9.600400e-03,4.781053e-01,4.229800e-03,1.900204e-01,2.168110e-02,4.430231e-01,4.929094e-01,-1.980610e-01,7.395490e-02,5.947831e-01,5.266319e-01,3.100000e-02,5.690716e-01,1.513277e-01,1.633584e-01,1.743057e-01,4.804239e-01,3.406496e-01,5.217546e-01,3.511212e-01,2.510387e-01,5.116614e-01,-1.733043e-01,-1.411270e-02,3.666810e-02,2.735507e-01,5.716895e-01,6.670890e-02,5.645456e-01,-2.107120e-02,5.347676e-01,3.474225e-01,-1.078430e-02,2.699546e-01,5.362529e-01,5.204712e-01],[0.2518632,-0.6579999,0.2801955,-0.6407515,-0.5606036,0.7270883,0.7577865,-0.2161597,-0.5892524,-0.3119328,0.7664001,-0.5015585,1.5238117,-0.2175864,0.8510552,-0.4483246,0.7177328,-0.5129438,0.9401985,0.1816015,0.6661467,0.3314075,0.8174167,-0.6659105,0.7625114,-0.4921856,0.8833649,0.2412713,0.7450343,-0.6780599,0.2869455,0.0212232,-0.6015024,0.2998757,0.008929,0.7683392,-0.6468491,0.0332938,-0.0230913,0.7742635,-0.6301233,-0.3348641,-0.6404809,-0.1800684,-0.5670676,-0.5944877,-0.4934583,0.4333133,-0.6038128,-0.5423157,-0.4546302,0.8075784,0.784241,0.8967896,-0.5775243,0.6454619,-0.5009171,0.6510198,0.9370908,-0.6662249,-0.0258614,-0.6574252,0.7550755,-0.5857394,-0.5404441,0.8798183,-0.5299398,-0.5566866,-0.3799146,0.6898268,0.8577595,-0.5724027,-0.7187294,0.4051009,0.674127,-0.5171649,0.5693322,-0.6282028,-0.577571,1.1326017,0.2618135,-0.1072543,0.5802411,0.6423545,0.4206444,0.4993589,-0.8271009,-0.2727408,-0.6372017,0.7879341,0.6308237,-0.6413931,0.5342408,-0.5848276,0.6203853,0.3831601,-0.6130013,0.9926998,1.017,0.9797695],[-0.1431198,-0.2618396,0.06944,-0.3796977,-0.2856812,0.4582908,0.0771074,0.0169486,-0.352676,-0.3594866,0.2990659,-0.3773673,0.4943439,-0.2545823,0.1324085,-0.2399761,0.4917855,-0.2797399,0.1682673,0.1497322,-0.0400499,0.2854648,0.3134408,-0.2116063,0.2543989,0.0053487,0.2196161,-0.3785784,0.1104333,-0.3390996,-0.3688807,-0.3946151,-0.3731423,0.2253756,-0.151733,-0.0132067,-0.3212793,0.0528662,-0.0820869,0.1184366,-0.4157562,-0.2759574,-0.3716691,-0.1308627,-0.3773655,-0.4139064,-0.2640895,0.2861177,-0.2819104,-0.3288813,-0.423155,0.2963848,-0.0161254,0.3421778,-0.2377072,0.3709514,-0.3851726,0.1518339,-0.0680781,-0.2851412,-0.5050325,-0.3421181,0.4680328,-0.3269964,-0.3467155,-0.040804,-0.1993288,-0.4432902,-0.4174996,0.283778,-0.0388027,-0.234675,-0.2902198,0.1978134,-0.1225425,-0.1997854,-0.1848239,-0.2999848,-0.2051983,0.4008594,0.5790541,-0.2351284,-0.0046715,0.2921623,0.3004871,0.3476416,-0.3464869,-0.0482863,-0.3817323,0.0503492,0.2242109,-0.5539839,0.2058714,-0.4483253,0.0474831,-0.3247048,-0.2813432,0.0284108,0.0087673,0.1418197],[0.8333914,-0.5031707,0.8094041,-0.5984349,-0.6733033,0.7167235,0.6815709,0.6263669,-0.6636134,-0.8076361,0.2853717,-0.702078,0.1458508,-0.063907,0.353701,-0.6260704,0.4066955,-0.62484,0.3923682,0.4156562,0.738249,0.4957021,0.4478643,-0.6589571,0.6818476,-0.6773682,0.7802542,0.693782,0.5604361,-0.6781332,0.4676082,0.4208868,-0.6591032,0.6556208,0.6658924,0.4523996,-0.6729751,0.5809308,0.2878258,0.2867289,-0.7137751,-0.9255777,-0.7693185,0.049808,-0.7063341,-0.6992829,-0.6724275,0.765451,-0.7104692,-0.7511458,-0.7234626,0.2424261,0.4496168,0.3725199,-0.6594937,0.6062102,-0.7190804,0.7059181,0.6433838,-0.6637079,0.4536581,-0.7521203,0.7116629,-0.653978,-0.6765835,0.4467962,-0.7317733,-0.708772,-1.0510229,0.6561785,0.5372136,-0.7084967,-0.6442948,1.0163645,0.5552267,-0.604751,0.5779032,-0.5937209,-0.650047,0.3690476,0.5437335,0.7733698,0.680249,0.6150047,0.6283136,0.7341788,-0.5449854,0.195082,-0.6681471,0.5817515,0.5210764,-0.1188782,0.593932,-0.6855208,0.4796391,0.7673619,-0.8133736,0.5629078,0.192123,0.4253244],[0.2577634,-0.1967151,0.2092407,-0.3103508,-0.2963323,0.427246,0.2538834,-0.0087188,-0.2715806,-0.1003141,0.5283623,-0.1778757,0.8756682,0.0114955,0.5552737,-0.2406503,0.3947967,-0.0838852,0.3153748,0.2920097,0.318513,0.3114924,0.3704382,-0.3940977,0.4246939,-0.3161955,0.4029391,0.4053636,0.3647338,-0.3195367,0.39049,0.15687,-0.382622,0.3184347,0.1551076,0.3829397,-0.2433161,-0.0450674,0.0981848,0.5948673,-0.0717204,-0.2106825,-0.0521054,-0.0606538,-0.2530655,-0.2568263,-0.3443569,0.3649475,-0.215368,-0.25412,-0.3113124,0.3297048,0.5212126,0.4030538,-0.4172615,0.3045393,-0.3939906,0.4340772,0.5914901,-0.2431612,-0.0407068,-0.282407,0.3435928,-0.1994711,-0.3250075,0.6121434,-0.1630398,-0.1966569,-0.1493647,0.3985789,0.6097581,-0.3972714,-0.2691506,0.3210034,0.3378884,-0.3411447,0.3850869,-0.2392938,-0.2591539,0.5756122,0.2109137,0.1548528,0.2108211,0.2915703,0.3266953,0.3586086,-0.4468063,0.320251,-0.3088674,0.7872965,0.5049037,-0.1943837,0.3229714,-0.2836431,0.4244041,0.2650024,-0.3808326,0.5480907,0.5912925,0.4640206],[-0.5440693,0.49939,-0.4558578,0.5541676,0.4492754,-0.6314149,-0.3062379,0.5184994,0.6343933,0.0893265,0.0261143,0.6413541,-0.5016261,0.9389173,0.0279353,0.4791619,-0.1930683,0.4912571,-0.4878016,-0.3187177,-0.188674,0.0646483,-0.2280259,0.4749135,-0.4193212,0.3003722,-0.6550983,0.2909174,-0.2261179,0.445623,-0.0623556,0.575435,0.2198442,-0.2523288,0.3670936,-0.3380921,0.6172343,0.0051412,0.3166057,-0.155147,0.9450796,0.1743981,0.5645527,0.975627,0.414429,0.3395072,0.6025718,-0.0412768,0.4565507,0.5635614,0.4541309,-0.8472449,-0.1198989,-0.1155206,0.5011809,-0.6410632,0.4244886,-0.643299,-0.3639146,0.4006096,0.0530049,0.7767662,-0.5193678,0.5816466,0.3457901,-0.0613581,0.5653933,0.6295894,0.2483103,-0.1373474,-0.2375039,0.431459,0.4906035,0.6748374,-0.1325264,0.4194265,-0.0588468,0.6850844,0.4912133,-0.7983075,-0.0982316,0.1898332,-0.2897903,-0.3243776,-0.5017164,-0.2616059,0.6591574,1.0827832,0.4669065,-0.224021,0.0097473,0.9842752,-0.2230899,0.3698045,-0.2714549,-0.4381132,0.346248,-0.2016559,0.1862614,-0.226521],[0.316754,-0.2493964,0.2284427,-0.0242689,-0.0180025,0.1605161,-0.4543908,0.1550211,0.1412424,-0.4355126,-0.0088402,-0.6632296,-0.3799413,-0.0471004,-0.4014527,-0.1711705,0.1294473,0.1417443,-0.4071677,0.1435987,0.4789384,0.018034,-0.105679,-0.0954076,0.1257609,-0.2417896,0.0519002,0.4920202,0.0835273,-0.2863508,-0.0864689,0.2302126,0.0213745,0.245373,0.3847112,-0.2861831,0.0992854,0.4005499,0.0619512,-0.4680861,0.1877967,-0.1928959,0.1287069,-0.0673274,-0.0765226,-0.3236655,-0.0593331,0.05871,-0.0470347,0.0305143,-0.2365535,-0.292024,-0.3302951,-0.2055078,-0.0575129,-0.2412609,-0.0749154,0.225473,-0.3912607,-0.1799428,-0.4573074,0.177788,-0.4270659,-0.0668903,0.0109529,-0.1040263,-0.1021844,-0.0133741,-0.4250007,0.1176807,0.0601959,-0.0190095,0.0701967,0.5905495,0.4145468,-0.0819923,0.5665284,-0.5039076,0.1125419,-0.0993086,0.5056756,0.4653043,0.5381702,-0.0349645,0.3632303,0.7022229,0.2731526,0.1577872,-0.0477,0.1093511,0.1233047,0.0667317,0.2207493,-0.06099,0.5217369,0.2313431,-0.2126216,0.0237501,-0.1799888,-0.3128546],[0.4360533,-0.5258142,0.3753999,-0.3245989,-0.5869042,0.4834044,0.4135152,-0.2268826,-0.3330192,-0.7089268,0.4920902,-0.6875359,0.1557419,-0.5702042,0.5157135,-0.5091497,0.4979514,-0.4100923,0.4432856,0.5561895,0.4955687,0.6214747,0.4599957,-0.4325918,0.5073062,-0.5016599,0.4931856,0.02066,0.5067729,-0.4834156,-0.0890097,-0.2726646,-0.4737514,0.6873227,0.4187481,0.3925813,-0.3354253,-0.1371359,-0.0212313,0.2344636,-0.101604,-0.8179525,-0.3130093,-0.4728403,-0.5276428,-0.4703567,-0.5382832,0.4870444,-0.3519163,-0.4004098,-0.5703543,0.197345,0.4414014,0.6448742,-0.4660788,0.5443614,-0.4960634,0.4763085,0.0639484,-0.4681771,-0.1397604,-0.3840541,0.2838456,-0.4854044,-0.6124693,0.4192999,-0.5609988,-0.42577,-0.7834985,0.5951801,0.5545366,-0.5269673,-0.3908031,0.4374358,0.5533062,-0.5860041,0.5636276,-0.3517631,-0.4485514,0.3490404,0.3561919,0.1727117,0.525198,0.5348716,0.448312,0.4859519,-0.4134113,-0.7317727,-0.5089632,-0.2523438,0.5189059,-0.5117611,0.5476843,-0.486671,0.4532555,0.7273306,-0.5714636,0.2414585,0.5010141,0.4840931],[2.3771890e-01,-7.3400530e-01,1.3387020e-01,-9.7645750e-01,-8.2377890e-01,5.2319410e-01,7.8456230e-01,-1.5885100e-01,-1.0177150e+00,-6.7953180e-01,7.5978230e-01,-8.8345320e-01,1.2932044e+00,-4.9009340e-01,8.7017130e-01,-8.3102530e-01,7.9314080e-01,-1.0774115e+00,7.5437170e-01,-4.8977100e-02,2.7790390e-01,2.6185700e-02,9.4367450e-01,-9.0019460e-01,5.7934310e-01,-7.7686760e-01,6.3215400e-01,3.3630500e-01,7.2646200e-01,-8.8937750e-01,-4.5246400e-02,-1.8214900e-01,-7.1940950e-01,-8.8520000e-04,-3.6459300e-02,8.6815190e-01,-1.0089350e+00,-8.8871500e-02,-2.4533650e-01,1.0760360e+00,-1.0424252e+00,-8.7100010e-01,-1.0097678e+00,-6.1320690e-01,-8.6154810e-01,-8.0856870e-01,-8.3559370e-01,4.5269580e-01,-8.8311030e-01,-9.1748910e-01,-7.5167450e-01,1.0179033e+00,9.3954600e-01,1.0508254e+00,-7.2970150e-01,8.7148700e-01,-8.5076740e-01,4.3740540e-01,1.0868148e+00,-7.3929420e-01,-1.0949210e-01,-9.9012930e-01,9.6172430e-01,-9.8413650e-01,-8.1571010e-01,8.8813770e-01,-9.7137400e-01,-9.0460910e-01,-8.2300140e-01,7.0702260e-01,3.4737230e-01,-8.7055980e-01,-9.4721040e-01,2.6312610e-01,4.0753330e-01,-8.3170550e-01,2.2390960e-01,-9.3858210e-01,-1.0142591e+00,1.1392298e+00,-8.9727000e-03,-8.5693200e-02,2.7759610e-01,7.4451970e-01,3.5350320e-01,1.9721690e-01,-1.0009660e+00,-3.1461610e-01,-8.1083640e-01,9.6199400e-02,7.3403890e-01,-9.3398240e-01,7.3650010e-01,-9.0641590e-01,4.3867840e-01,2.7548290e-01,-7.7836190e-01,6.1873920e-01,8.5897230e-01,1.0583791e+00],[0.3793754,0.0345112,0.2025853,0.2731874,0.2418722,0.3352602,-0.1071086,0.1382016,0.2720864,0.0081264,-0.1854885,-0.4105614,-0.3113761,0.0009436,-0.2538624,0.1287986,-0.2676461,0.3761611,-0.2893576,-0.0783282,0.1638196,0.0225497,-0.2655198,0.2678982,0.2403014,0.2573254,0.4322833,-0.0819651,-0.4307999,0.1163355,-0.0520777,-0.1715098,0.2912756,0.0831143,0.1140966,-0.4331226,0.37828,0.1165972,-0.1252132,-0.3619627,0.3228869,0.2028496,0.2255856,0.1440279,0.163574,0.0805828,0.2641814,0.0504744,0.1957711,0.3356236,0.1725033,-0.2186533,-0.3597063,-0.3645795,0.121767,-0.4662167,0.2065894,0.3221002,-0.4047952,0.1777414,-0.8994055,0.1519153,-0.3535204,0.1368868,0.192156,-0.2840679,0.2444829,0.1971839,0.1358046,-0.3558282,0.3157035,0.3376889,0.1764467,-0.1323316,0.1906527,0.2496242,0.1222126,-0.2612105,0.23646,-0.2627474,0.0299328,0.0256684,-0.0070843,-0.2571562,0.1855446,0.1213085,0.3846352,-0.2081196,0.1885163,0.1410747,-0.4761226,0.3309874,-0.2939335,0.2301221,0.0499338,0.282524,0.2319397,0.2837927,-0.1837718,-0.3661907],[2.098844e-01,1.063205e-01,-1.050898e-01,2.740970e-01,3.471460e-02,-3.997621e-01,1.206741e-01,-4.542800e-03,1.611229e-01,-2.786009e-01,-2.872851e-01,-6.020000e-04,-7.570817e-01,6.348351e-01,-4.408858e-01,5.228570e-02,-2.356485e-01,-1.381657e-01,-1.917312e-01,1.188926e-01,4.684269e-01,1.722898e-01,-2.376118e-01,2.175254e-01,-5.068400e-02,-1.731650e-02,-2.363919e-01,1.176626e-01,-6.228700e-03,8.962710e-02,1.608791e-01,2.669024e-01,-6.425400e-02,5.782290e-02,2.299946e-01,-3.221586e-01,2.723020e-01,5.833010e-02,-1.649030e-02,-6.067739e-01,1.616688e-01,-1.228180e-02,1.239366e-01,4.878221e-01,8.170860e-02,1.286860e-01,-9.498550e-02,2.992965e-01,1.572360e-01,-4.619130e-02,1.173860e-02,-7.184157e-01,-3.658846e-01,-1.237077e-01,4.185090e-02,-1.679372e-01,1.734946e-01,-4.637534e-01,-5.631281e-01,-2.793320e-02,7.714160e-02,9.664280e-02,-4.517016e-01,-1.398770e-02,-1.051180e-02,-3.209427e-01,1.585400e-03,9.316490e-02,-9.233030e-02,-1.862490e-01,-1.130656e-01,-2.539040e-02,1.312690e-01,6.312894e-01,-6.047740e-02,2.396190e-02,-1.352524e-01,1.757524e-01,4.831830e-02,-5.167261e-01,-2.338633e-01,2.194935e-01,1.336487e-01,-1.427132e-01,-6.036370e-02,7.840160e-02,1.823688e-01,5.839067e-01,1.322724e-01,8.614520e-02,-2.487400e-01,6.263884e-01,1.002909e-01,8.429580e-02,-1.462543e-01,1.298600e-03,1.062555e-01,-1.081425e-01,-4.258818e-01,-4.284891e-01],[2.2490690e-01,-6.1617110e-01,2.0861320e-01,-8.5598710e-01,-6.6851410e-01,6.0186960e-01,9.4336160e-01,-1.7324020e-01,-7.5066750e-01,-2.7395100e-02,7.6362910e-01,-5.2943880e-01,1.2674507e+00,-3.7946890e-01,8.3174940e-01,-5.7815700e-01,6.6727050e-01,-8.1047970e-01,8.7166670e-01,-7.2840000e-04,2.8327680e-01,8.4395300e-02,7.9936870e-01,-7.3144230e-01,8.3047030e-01,-4.6209990e-01,6.8139450e-01,1.7111550e-01,7.6846870e-01,-6.9176200e-01,-1.4538830e-01,-1.8893320e-01,-5.6290870e-01,4.7631530e-01,-7.2400100e-02,8.0316640e-01,-8.2670690e-01,7.8558500e-02,-1.4549910e-01,1.0727173e+00,-1.0248239e+00,-3.4533830e-01,-8.8679910e-01,-3.1821000e-01,-6.8476100e-01,-6.9067730e-01,-6.4461300e-01,5.5490330e-01,-8.4576020e-01,-7.3764170e-01,-6.5913940e-01,9.2226440e-01,8.8701950e-01,8.9310540e-01,-6.2921730e-01,8.2660650e-01,-7.4551710e-01,3.5350100e-01,9.9289940e-01,-6.1537860e-01,-3.0983890e-01,-7.5152700e-01,9.0461190e-01,-7.9865590e-01,-6.8865350e-01,9.7330080e-01,-7.1326280e-01,-7.4408100e-01,-4.4714590e-01,5.9134760e-01,4.3367460e-01,-6.5844560e-01,-8.3775930e-01,1.2571450e-01,3.0883750e-01,-6.9463280e-01,3.2399940e-01,-7.3447900e-01,-8.1118190e-01,9.3626050e-01,6.8475000e-02,1.4658600e-01,3.2562090e-01,7.0853250e-01,2.1367870e-01,3.2100610e-01,-8.3671580e-01,-2.2284650e-01,-7.7479080e-01,4.4854760e-01,6.0182300e-01,-6.6417980e-01,6.5834330e-01,-6.8944640e-01,3.2425760e-01,2.5086040e-01,-7.0145050e-01,5.6281940e-01,1.0073066e+00,1.0750618e+00],[-0.2641941,0.2431432,-0.2552583,0.2273851,0.2537946,-0.2202455,-0.1309689,0.3516706,0.1105482,-0.0621343,-0.239513,0.3312636,-0.2038966,0.9596511,-0.1114634,0.1637145,-0.1401603,0.4002042,-0.2401958,-0.2882008,-0.0582301,-0.032664,-0.1320215,0.236493,-0.3571235,0.1113871,-0.4775088,0.2729906,-0.1881474,0.2802882,-0.2186679,0.2854559,0.0223646,-0.3343061,0.0804284,-0.361438,0.1929724,-0.1678865,0.2598732,-0.0876924,0.2704477,0.2906333,0.1947377,0.7891135,0.0586699,0.1138661,0.1722715,-0.0779384,0.1927772,0.2449605,0.1119281,-0.3038789,-0.2341133,-0.2013108,0.2421785,-0.3032846,0.0935093,-0.2680293,-0.2737871,0.155846,-0.1163367,0.1828277,-0.357945,0.1323966,0.0826208,-0.2322211,0.1672012,0.1866142,0.194721,-0.2375649,-0.2648437,0.1254594,0.3037261,0.5181832,-0.1149451,0.2070493,-0.0680798,0.2115917,0.1398378,-0.2339227,0.0725617,0.3048211,-0.144268,-0.2246753,-0.2241915,-0.1831122,0.2101037,0.9375162,0.0860489,-0.2253475,-0.1862786,0.7531474,-0.3245781,0.1351974,-0.2221061,-0.2637737,0.1928367,-0.1579131,-0.0242933,-0.1254587],[-0.0478562,0.3757589,0.0023642,0.5363439,0.4909316,0.0128397,-0.4991388,0.0909659,0.6861762,0.0054846,-0.1007464,-0.0237642,-0.6767241,0.2002401,-0.237097,0.3425815,-0.3125054,0.7704767,-0.5612637,0.0274918,0.1502439,0.1312906,-0.5749878,0.5477011,0.2154006,0.3629971,-0.0632392,0.1666315,-0.3651903,0.4453353,0.1437382,0.0645934,0.3603306,-0.1901811,0.0717363,-0.5683538,0.6918069,0.1524212,0.0061711,-0.4338615,0.7845554,0.3153355,0.7081219,0.2333599,0.4937207,0.183118,0.3726269,-0.020829,0.447843,0.5938007,0.3564952,-0.6882718,-0.4246942,-0.5778899,0.5524704,-0.6877068,0.4091262,0.0396464,-0.6204097,0.3189569,-0.7050848,0.5549207,-0.6788582,0.4170527,0.4165154,-0.1738732,0.5777176,0.5541494,0.3353837,-0.4243325,0.1586225,0.5418667,0.5204976,0.2563255,-0.088296,0.3690059,0.0126928,0.1619404,0.5425261,-0.6052462,-0.0480385,0.0760735,-0.1411596,-0.4710652,-0.1806957,-0.0988009,0.6363637,0.188381,0.4691507,0.1089056,-0.4136689,0.455381,-0.3201931,0.4305735,-0.0354052,0.0084019,0.4628932,0.1993464,-0.3177895,-0.449627],[-0.3161861,-0.1911176,-0.4044493,-0.2920822,-0.3197407,-0.0199168,0.3529828,-0.2385156,-0.3330718,-0.3388436,0.3434054,-0.1457488,0.3235539,-0.2915835,0.4184881,-0.1903091,0.2251018,-0.3514646,0.3152793,0.1735883,0.1001691,0.118992,0.2960943,-0.2002488,0.1491446,-0.3393493,-0.0941553,-0.1053543,0.4118156,-0.2577792,-0.2928434,-0.0908921,-0.361841,0.1814441,-0.0211144,0.2368215,-0.2583679,-0.1729373,-0.0611636,0.4168533,-0.0886795,-0.1206083,-0.1149092,-0.2525585,-0.3617649,-0.3458939,-0.3678979,0.4358354,-0.2416511,-0.2791638,-0.3299814,0.1663135,0.2702129,0.4101725,-0.1882647,0.2907951,-0.3546959,-0.2975783,0.3315651,-0.236482,-0.1736077,-0.332579,0.1814663,-0.3858032,-0.2752791,0.2096634,-0.3413258,-0.1969892,-0.1683697,0.3336626,-0.3943476,-0.3415815,-0.194557,0.0310137,-0.0955273,-0.1791054,-0.0814332,-0.2924795,-0.2966098,0.5101068,0.3546775,0.330155,0.0166998,0.2067528,0.1882112,0.1342862,-0.337243,-0.3013594,-0.3407477,-0.5945861,0.2296858,-0.4366411,0.4428361,-0.3122761,0.1082702,-0.3741178,-0.2804322,0.1329537,0.3200083,0.3179656],[5.042816e-01,-2.281643e-01,4.583913e-01,2.742810e-02,2.910810e-02,4.212533e-01,3.820500e-03,8.182627e-01,-6.983640e-02,-3.873991e-01,3.596057e-01,-4.262083e-01,-2.054515e-01,2.825602e-01,3.006996e-01,-1.919837e-01,3.835104e-01,-2.867000e-04,-5.436220e-02,4.103795e-01,2.966448e-01,6.837551e-01,1.359038e-01,8.902010e-02,3.619591e-01,-6.070860e-02,3.470621e-01,4.894358e-01,2.113712e-01,-2.617866e-01,2.941881e-01,2.552118e-01,-1.955760e-01,4.855499e-01,8.333496e-01,1.140458e-01,-6.987260e-02,6.456165e-01,8.977100e-03,-2.131540e-02,1.132800e-02,-7.816960e-02,8.165700e-03,3.134611e-01,-1.345325e-01,-5.032130e-01,-3.525620e-02,4.990061e-01,3.850980e-02,-5.268030e-02,-3.542793e-01,-4.121279e-01,4.108040e-02,1.744973e-01,-4.987400e-03,-7.723580e-02,-1.235648e-01,4.812787e-01,-6.436070e-02,-1.658851e-01,-3.984437e-01,2.435680e-02,1.336563e-01,-3.377512e-01,-9.036760e-02,1.458998e-01,-6.098560e-02,-1.290072e-01,-2.060007e-01,2.061058e-01,4.560497e-01,-5.011150e-02,-8.353960e-02,5.724989e-01,6.351715e-01,1.644490e-02,5.795888e-01,-5.036163e-01,-3.480420e-02,-3.220225e-01,6.617078e-01,4.590212e-01,5.087374e-01,1.952172e-01,4.975268e-01,4.871999e-01,8.907410e-02,6.493474e-01,-1.032233e-01,1.840688e-01,1.576553e-01,4.649810e-02,2.097199e-01,-1.049317e-01,5.291323e-01,4.248190e-01,-6.999860e-02,3.474156e-01,8.414050e-02,1.019083e-01],[2.473609e-01,-6.129127e-01,1.307725e-01,-5.115091e-01,-4.291342e-01,7.301260e-02,2.237839e-01,-1.947359e-01,-1.946153e-01,-3.680175e-01,-2.634880e-02,-6.154042e-01,-3.658884e-01,-2.595632e-01,-4.595891e-01,-4.514098e-01,-1.779617e-01,-1.155087e-01,-5.054640e-02,-1.362559e-01,-3.769000e-03,-1.450303e-01,1.237639e-01,-5.590104e-01,1.752646e-01,-2.933692e-01,1.639970e-01,-1.442660e-02,-1.498291e-01,-5.786163e-01,-4.277168e-01,-2.178580e-01,-8.069580e-02,3.661050e-02,-9.602680e-02,-2.250900e-01,-4.382513e-01,-8.824270e-02,-2.616598e-01,-6.615849e-01,-7.235390e-02,-3.371046e-01,-2.706414e-01,-1.088008e-01,-4.243462e-01,-4.659750e-01,-1.559053e-01,1.607386e-01,-4.046244e-01,-1.264688e-01,-4.245503e-01,-3.249994e-01,-3.656325e-01,-4.996493e-01,-4.173447e-01,-3.424485e-01,-3.869452e-01,2.686919e-01,-5.368500e-01,-5.204071e-01,-9.797472e-01,-5.318516e-01,-5.140315e-01,-4.915263e-01,-3.492126e-01,-3.860098e-01,-5.829011e-01,-5.609490e-01,-4.818653e-01,-1.979310e-01,-3.267600e-02,-5.876140e-02,-4.147199e-01,-4.209903e-01,2.064738e-01,-1.822879e-01,2.503654e-01,-5.233788e-01,-7.105400e-02,-1.826072e-01,5.014000e-03,-1.869746e-01,8.977110e-02,1.827346e-01,2.385507e-01,5.464540e-02,1.207404e-01,-1.331284e-01,-6.297131e-01,-5.765672e-01,-1.949565e-01,4.789000e-04,1.475979e-01,-4.499373e-01,4.023440e-02,2.234145e-01,-3.181862e-01,1.123481e-01,-8.411440e-02,-5.168871e-01],[0.4728071,-0.4394109,0.3531921,-0.3491165,-0.4475348,0.2401091,0.5714988,0.2474443,-0.4107715,-0.4840432,0.3744307,-0.4531999,-0.0939776,0.3105692,0.3260527,-0.4706497,0.2490362,-0.2452462,0.3479848,0.3206556,0.5906955,0.263866,0.412957,-0.4434066,0.4030198,-0.5415135,0.2811237,0.2585716,0.4685856,-0.4713539,0.1673183,0.2059888,-0.5237063,0.1729685,0.3529345,0.4316104,-0.3635447,0.1468432,0.0616629,0.2272904,-0.3247509,-0.4360138,-0.4807612,0.1710509,-0.3914753,-0.4150432,-0.4906315,0.4918836,-0.3669531,-0.4154628,-0.4632113,-0.1173933,0.4092023,0.4237653,-0.4636078,0.3538026,-0.4390037,0.2968921,0.2827141,-0.3857154,0.2056156,-0.4261785,0.2469759,-0.4376929,-0.3487417,0.3950299,-0.4088491,-0.4014858,-0.4242714,0.1808154,0.4578449,-0.487746,-0.4652436,0.7524204,0.2533362,-0.4593105,0.3913245,-0.4580479,-0.415849,0.116267,0.1255969,0.3525397,0.2422074,0.3661447,0.2745053,0.2528679,-0.4004147,0.3850394,-0.460235,0.41367,0.2943432,0.2107298,0.4920951,-0.4296043,0.3616595,0.4971855,-0.4845206,0.3473313,0.4243023,0.3821748],[-0.0095274,-0.6956173,-0.0962282,-0.7294759,-0.6937941,0.4510801,0.6634219,-0.2627842,-0.6960648,-0.5361125,0.3900784,-0.7799232,0.4652379,-0.5962037,0.4427165,-0.6050308,0.3859666,-0.6365153,0.6008013,-0.2282641,0.0659279,-0.1399447,0.5432592,-0.8154441,0.5071692,-0.7056415,0.1828693,-0.2573675,0.5558067,-0.7370624,-0.5165293,-0.5389053,-0.5796415,-0.0156792,-0.1808347,0.6430269,-0.7077795,-0.2004076,-0.3580451,0.7271765,-0.6323676,-0.5761282,-0.6327996,-0.5613031,-0.6950108,-0.7355609,-0.6879178,0.4329446,-0.5236871,-0.6315795,-0.5887661,0.3921303,0.5828619,0.575428,-0.617727,0.5365937,-0.6182829,0.1118209,0.5863549,-0.6320935,-0.5236415,-0.7923825,0.7407844,-0.6108975,-0.684358,0.6235616,-0.7282989,-0.6640272,-0.6236349,0.4510705,-0.1009419,-0.6566265,-0.6992852,0.0520893,0.091741,-0.7148421,0.1318688,-0.6683211,-0.6573822,0.5880979,-0.0355937,-0.3456746,0.0537095,0.5090051,0.0558193,0.1040341,-0.7876511,-0.2973582,-0.7376755,-0.0380004,0.4693649,-0.7160683,0.5285675,-0.6990712,0.1929694,-0.1201113,-0.7677513,-0.1467779,0.578598,0.5957161],[0.839868,-0.5979847,0.8768134,-0.5721397,-0.7719646,0.511158,0.7817748,0.8479503,-0.5957424,-0.7355692,0.623616,-0.7242963,0.0529319,0.0737437,0.5658052,-0.647266,0.6663463,-0.5961975,0.4648029,0.7776818,0.6678478,0.8582791,0.704624,-0.6189899,0.6116807,-0.7211224,0.5298477,0.5809108,0.6579341,-0.7289088,0.5697044,0.4137288,-0.738677,0.7938496,0.8659091,0.5484518,-0.4545016,0.8580557,0.4052981,0.3938488,-0.4739833,-0.6682107,-0.5816776,0.1621334,-0.6675578,-0.781465,-0.6434763,0.7399551,-0.5173497,-0.7233149,-0.6464858,0.0885654,0.5844934,0.5794156,-0.6441287,0.4260904,-0.790152,0.6913555,0.5426612,-0.6223021,0.4661414,-0.6511735,0.337977,-0.563212,-0.6787718,0.7120547,-0.6851792,-0.6070091,-0.6291472,0.5921046,0.5579253,-0.5729519,-0.5044907,0.7881448,0.6377335,-0.6676565,0.5348366,-0.4883609,-0.6102196,0.2981949,0.7434221,0.6902701,0.6772906,0.6135519,0.61343,0.6316088,-0.4755879,0.2256294,-0.6546921,0.6366013,0.6287498,-0.0012315,0.6986387,-0.6581306,0.5506446,0.6481032,-0.7158287,0.5603778,0.5791671,0.4961468],[-2.313288e-01,-7.908370e-02,-9.312570e-02,1.048210e-01,-9.842050e-02,-1.880529e-01,-2.261524e-01,-1.398965e-01,2.637670e-01,-2.174688e-01,8.892940e-02,-1.966102e-01,-7.823778e-01,1.243843e-01,5.936580e-02,-8.236520e-02,6.607870e-02,-5.939000e-03,-6.481490e-02,3.202240e-02,-3.903053e-01,-2.596330e-02,-5.342830e-02,-1.131860e-01,-1.657820e-01,-2.193342e-01,-1.998428e-01,-8.152550e-02,-2.860600e-02,-3.805670e-02,-2.043640e-02,-1.431147e-01,-1.726816e-01,1.695000e-04,-9.383360e-02,-2.204390e-02,9.102600e-03,-1.274228e-01,-1.313151e-01,-5.370025e-01,1.144055e-01,-3.716000e-02,5.807120e-02,1.721926e-01,-1.624440e-02,-9.901510e-02,-1.441144e-01,-2.580460e-02,-2.831600e-03,-2.339810e-02,-6.089380e-02,-7.930444e-01,-3.158682e-01,-1.466837e-01,-5.706040e-02,-1.978065e-01,-7.014590e-02,-9.371760e-02,-5.312225e-01,-1.362779e-01,-8.810629e-01,4.869660e-02,-6.792077e-01,5.610600e-03,-1.159205e-01,1.039027e-01,2.100600e-03,8.463430e-02,-9.081660e-02,1.363598e-01,1.829230e-02,-1.199700e-01,-4.970450e-02,-2.759294e-01,5.170780e-02,-1.460228e-01,-4.688350e-02,2.220990e-02,1.126930e-02,-2.104630e-02,7.944070e-02,-1.551192e-01,-1.987769e-01,-8.017910e-02,-1.496437e-01,-1.740711e-01,3.266453e-01,1.443654e-01,-3.539650e-02,-6.819817e-01,1.285046e-01,4.302717e-01,-1.092700e-02,-6.625410e-02,2.672670e-02,-2.206816e-01,-1.347093e-01,-4.973040e-02,2.047293e-01,-5.924146e-01],[-0.1851697,-0.7332609,-0.3300118,-0.7239781,-0.7297363,0.5504363,0.5042216,-0.5979494,-0.6592028,-0.7358562,0.3441963,-0.7340711,0.4739136,-0.8180155,0.4090354,-0.7102497,0.5842906,-0.5589415,0.5064814,-0.5841472,-0.0198373,-0.5244235,0.5033112,-0.629812,0.506578,-0.6948608,0.2985238,-0.6045526,0.5678169,-0.7823761,-0.8155192,-0.6707164,-0.6654902,-0.1751375,-0.567486,0.5050616,-0.6255167,-0.6061319,-0.7278881,0.3587336,-0.6218173,-0.7180656,-0.7822173,-0.7962355,-0.7158019,-0.6416679,-0.6967102,0.329041,-0.7317425,-0.6180491,-0.6393972,0.4198733,0.4898871,0.6148509,-0.7442579,0.5192516,-0.6334183,-0.0693637,0.5510439,-0.6639335,-0.4553275,-0.6182513,0.5671959,-0.6166546,-0.605679,0.4027764,-0.6592683,-0.7216749,-0.7085457,0.4662346,-0.2862311,-0.5942548,-0.7003732,-0.2294849,-0.180536,-0.6367732,-0.1796678,-0.5592753,-0.5956354,0.3782626,-0.2595908,-0.7124197,0.058174,0.4456989,0.4228447,-0.0638108,-0.6828852,-0.7954997,-0.6788417,-0.5061141,0.4902741,-0.7517873,0.5701783,-0.742819,-0.1062359,-0.1358731,-0.7417944,0.4131502,0.4739695,0.5998385],[0.1307867,-0.2790105,0.1555015,-0.1704637,-0.3574777,0.0454146,0.1567124,0.0137888,-0.3216053,-0.4590943,0.3102848,-0.3267376,-0.2771756,0.0818656,0.3626707,-0.3276983,0.2768122,-0.307431,0.1248934,0.4237576,0.2276116,0.3537292,0.2682071,-0.3067335,0.1594277,-0.4703002,0.2073007,-0.1824608,0.3970431,-0.1847043,0.114261,-0.2192401,-0.3445088,0.3145631,0.2034545,0.3005096,-0.163767,-0.0055317,-0.1736747,0.1366088,-0.2389003,-0.4420271,-0.1608899,0.0736723,-0.3093019,-0.2754572,-0.4599451,0.3478194,-0.2858015,-0.253464,-0.3404127,-0.29175,0.287504,0.2559481,-0.1734747,0.1714177,-0.3868643,0.1202334,0.254914,-0.2597779,-0.1252219,-0.2882422,0.13448,-0.3423149,-0.3581158,0.3887425,-0.3387306,-0.2461806,-0.3086402,0.2837353,0.2647822,-0.3663015,-0.3069864,0.5456529,0.1425858,-0.3926167,0.1593434,-0.3556507,-0.3227184,0.0599311,0.1030182,-0.1911616,0.2736657,0.1138966,0.2490309,0.20723,-0.140094,0.0148897,-0.2958727,0.3131059,0.3183276,0.2709256,0.2943943,-0.3289684,0.2601275,0.224244,-0.309165,0.1732023,0.2449136,0.2201265],[0.3054251,-0.4855541,0.1134926,-0.4838437,-0.3851021,0.3157088,0.1590703,0.1553639,-0.4124828,-0.3594098,0.2884228,-0.5872024,-0.4289348,0.3776101,0.2122237,-0.5682836,0.4037372,-0.4733111,0.1891247,0.0755729,0.3646002,0.0855268,0.3408598,-0.4479109,0.1275167,-0.5241651,0.2393353,0.0707927,0.3207776,-0.5125293,-0.1621845,-0.008403,-0.370639,0.1380261,-0.0729836,0.2881021,-0.4617562,0.0089738,-0.2140517,0.0647677,-0.3366161,-0.3856795,-0.3985798,0.2015028,-0.4770676,-0.4160542,-0.3991544,0.2860917,-0.365138,-0.5123385,-0.4946387,0.094586,0.2796112,0.3565971,-0.4571786,0.4129676,-0.400711,0.3428259,0.1021988,-0.5151611,0.0042247,-0.4540386,0.4138442,-0.5003424,-0.3556825,0.240594,-0.4631034,-0.4475039,-0.3947955,0.3319819,0.2098584,-0.4636357,-0.4475116,0.0706094,0.308015,-0.3953244,0.258804,-0.4547059,-0.4086976,0.2257994,0.1871904,0.0974311,0.3499136,0.3896063,0.2584932,0.3687978,-0.3484421,0.2693273,-0.4187081,-0.5007228,0.3987675,0.2842019,0.3726033,-0.4102531,0.1997481,0.2446954,-0.4158281,0.1495547,0.1991953,0.3537598],[0.255998,-0.7436992,0.3698794,-0.4884986,-0.5255616,0.3616603,0.0225708,0.024216,-0.5257335,-0.6919426,0.48126,-0.7653478,-0.1437417,-0.0307256,0.5737534,-0.6579446,0.4701876,-0.5229774,0.387286,0.2940004,0.3112789,0.1665277,0.4941498,-0.5970952,0.3100212,-0.726009,0.3655246,0.1109618,0.5542446,-0.605306,-0.0761637,-0.1871598,-0.4883302,0.2008609,-0.0360727,0.5652205,-0.6092283,0.1239334,-0.0141874,0.224312,-0.6104906,-0.6284971,-0.634683,-0.1533915,-0.5459278,-0.5696509,-0.5017717,0.4553145,-0.5655687,-0.5414062,-0.5498025,0.1436228,0.4932252,0.4490224,-0.6110448,0.3931822,-0.5436105,0.381339,0.3470408,-0.6827949,-0.2629979,-0.5080107,0.4006679,-0.6518046,-0.5024582,0.5680295,-0.5635279,-0.5314563,-0.6250123,0.4262285,0.2821718,-0.5959907,-0.5597588,0.6101229,0.3175636,-0.5111129,0.3732203,-0.6332684,-0.5376449,0.2406486,0.1614043,-0.0012427,0.4844769,0.5821006,0.3157811,0.5759523,-0.5370414,0.0635071,-0.5821465,-0.2385233,0.4766251,0.0837589,0.5638397,-0.5900793,0.371554,0.4334329,-0.5530066,0.2110781,0.4897939,0.410549],[0.3422027,-0.6864136,0.2064059,-0.0786794,-0.5278888,0.3539942,-0.2036612,0.3696706,-0.0812661,-0.6382788,0.5930564,-0.6831317,-0.3898444,-0.0817899,0.202253,-0.7422811,0.446404,-0.1851561,-0.178408,0.428618,-0.0164439,0.3283907,0.2157774,-0.1125068,0.236582,-0.7092645,0.3217553,0.117425,0.2409801,-0.4789625,0.1111199,0.0135896,-0.7029666,0.3271895,0.5791944,-0.0035939,-0.1510459,0.39427,-0.1180562,-0.2869146,-0.0778458,-0.6302837,-0.1017712,-0.1924218,-0.2631498,-0.737877,-0.5912855,0.6279722,-0.1399885,-0.6012185,-0.7371268,-0.4083347,0.1243546,0.0610267,-0.2169041,-0.1415635,-0.6472509,0.3399707,-0.2246527,-0.6626346,-0.6282373,0.0371371,-0.0021296,-0.1764893,-0.6453405,0.064846,-0.6033418,-0.0846044,-0.683003,0.3595214,0.0773747,-0.472492,-0.1461339,-0.0453301,0.4937125,-0.604304,0.4727533,-0.1816272,-0.0571058,-0.3323806,0.6378622,0.1730854,0.4328285,0.0823589,0.4785079,0.4765346,0.0921347,-0.1605828,-0.5471988,0.0274412,0.1111163,-0.1269379,0.7309787,-0.7308612,0.4791766,0.2420159,-0.7052953,0.1195353,-0.0174012,-0.1340356],[4.134719e-01,-6.008213e-01,3.226139e-01,-5.018305e-01,-4.285801e-01,3.947288e-01,3.794401e-01,1.751002e-01,-5.190165e-01,-6.633118e-01,5.317245e-01,-5.126631e-01,1.065467e-01,-1.136959e-01,4.952569e-01,-6.618468e-01,4.331607e-01,-4.708694e-01,3.999797e-01,3.507181e-01,3.433216e-01,2.929324e-01,4.839543e-01,-4.968633e-01,3.208811e-01,-5.584668e-01,5.262862e-01,2.366334e-01,4.347038e-01,-3.924942e-01,2.140842e-01,-1.070297e-01,-5.556793e-01,3.997019e-01,1.769548e-01,3.677416e-01,-5.429613e-01,1.221599e-01,4.519450e-02,3.406236e-01,-4.686531e-01,-5.577411e-01,-4.501048e-01,-5.691370e-02,-3.975145e-01,-4.277225e-01,-5.161327e-01,4.440010e-01,-4.744659e-01,-4.229954e-01,-5.700776e-01,2.288144e-01,4.283308e-01,5.687210e-01,-4.116373e-01,3.463905e-01,-4.888877e-01,3.630956e-01,4.498850e-01,-4.529750e-01,-1.325990e-02,-3.663121e-01,4.711145e-01,-4.369591e-01,-5.039194e-01,4.030720e-01,-4.938587e-01,-4.604661e-01,-6.139802e-01,4.903364e-01,4.884329e-01,-4.660703e-01,-5.518861e-01,4.952224e-01,3.677239e-01,-4.538619e-01,4.030688e-01,-4.155252e-01,-4.611849e-01,2.329292e-01,3.294411e-01,7.041550e-02,3.342384e-01,4.403625e-01,3.108756e-01,4.066797e-01,-4.329519e-01,1.430000e-04,-4.505313e-01,3.372008e-01,4.167121e-01,2.360060e-02,4.311375e-01,-5.246878e-01,3.219412e-01,4.697752e-01,-4.009829e-01,4.244755e-01,4.971926e-01,4.477757e-01],[0.3487249,-0.5893077,0.3051942,-0.6026893,-0.5156676,0.4464731,0.3214607,-0.1489603,-0.6432662,-0.5190961,0.6887029,-0.5728282,0.0261723,0.0763382,0.2996332,-0.5973919,0.554522,-0.5228169,0.3357629,0.0265004,-0.0618881,0.0038303,0.5793878,-0.4411115,0.3479554,-0.4870724,0.4573739,-0.1145623,0.4994175,-0.5322805,-0.183766,-0.0948797,-0.5514629,0.2312606,-0.0192355,0.047323,-0.6012104,-0.1206431,-0.2216431,-0.080407,-0.3031054,-0.5665349,-0.6472671,-0.0278671,-0.4537444,-0.4952375,-0.5754944,0.5332097,-0.6328298,-0.6854489,-0.6346595,-0.2399944,0.0416359,0.1441839,-0.5524871,-0.0057308,-0.5301902,0.4406306,0.0191357,-0.5838816,-0.8130285,-0.5790541,-0.0461513,-0.4840091,-0.5388965,0.4072877,-0.5945619,-0.6882041,-0.4528015,0.5768555,0.4133469,-0.6199497,-0.5145075,-0.0143721,0.4434274,-0.6009133,0.3875423,-0.5833703,-0.6323797,-0.2733292,0.6058186,-0.1485704,0.1764524,0.4966884,0.310096,0.3793711,0.0236397,0.0945965,-0.4857437,0.1551314,0.2641762,-0.0356198,0.7294068,-0.5299332,0.5309344,0.3835149,-0.5116363,0.3469374,0.4432844,0.0192402],[0.9373298,-1.0022502,0.6733801,-1.1108415,-0.9409069,0.9660731,0.9987306,0.2071523,-1.0617787,-0.9540658,0.9653697,-1.0402784,0.5664436,-0.1855669,0.875105,-0.9005591,1.0876877,-1.0282878,0.7135388,0.3755336,0.5754033,0.4796566,1.0170631,-1.031335,0.6939141,-0.9041627,1.069446,0.1038877,0.864872,-1.1741949,0.1603581,-0.1546099,-0.9854288,0.677079,0.2808017,1.0082479,-1.0490327,0.1479735,-0.4888881,0.6937374,-1.1816791,-0.992399,-1.1759261,-0.3872775,-1.040825,-1.0362729,-0.8521676,0.9469717,-1.0925895,-1.0350419,-0.9658518,0.6457437,1.0079498,1.0974934,-1.1453012,1.1332768,-0.9896427,1.0347495,0.8658708,-1.0683744,0.1582669,-1.1841189,1.1298788,-1.0359198,-0.9788501,0.8396863,-0.9755254,-1.197717,-0.959894,1.0440419,0.7897623,-1.0274374,-1.0041305,0.6436412,0.8440116,-0.9531144,0.7527547,-1.1703957,-0.8983526,0.8869669,0.8163067,0.1090481,1.0033834,1.0726509,0.8577009,1.0181563,-1.0468957,-0.3806547,-1.0466357,-0.136078,0.9621551,-0.2832234,0.9853022,-0.9230648,0.9753444,0.9921512,-0.9118667,0.5907444,0.8793408,1.0302978]]'"
      ]
     },
     "execution_count": 17,
     "metadata": {},
     "output_type": "execute_result"
    }
   ],
   "source": [
    "# 例：最初の隠れ層の重み\n",
    "fc_layers[0][0]"
   ]
  },
  {
   "cell_type": "markdown",
   "metadata": {},
   "source": [
    " - エージェントを作る\n",
    " - submitは、エージェントの動きを定義する関数(my_agent)を文字列にした.pyの形で行う\n",
    " - my_agent：状態に合わせて、既に学習した層の重みを掛け合わせてQ値を算出し、Q値が最大になる行動を出力"
   ]
  },
  {
   "cell_type": "code",
   "execution_count": null,
   "metadata": {},
   "outputs": [],
   "source": [
    "# Create the agent\n",
    "my_agent = '''def my_agent(observation, configuration):\n",
    "    import numpy as np\n",
    "\n",
    "'''\n",
    "\n",
    "# Write hidden layers\n",
    "for i, (w, b) in enumerate(fc_layers[:-1]):\n",
    "    my_agent += '    hl{}_w = np.array({}, dtype=np.float32)\\n'.format(i+1, w)\n",
    "    my_agent += '    hl{}_b = np.array({}, dtype=np.float32)\\n'.format(i+1, b)\n",
    "# Write output layer\n",
    "my_agent += '    ol_w = np.array({}, dtype=np.float32)\\n'.format(fc_layers[-1][0])\n",
    "my_agent += '    ol_b = np.array({}, dtype=np.float32)\\n'.format(fc_layers[-1][1])\n",
    "\n",
    "my_agent += '''\n",
    "    state = observation.board[:]\n",
    "    state.append(observation.mark)\n",
    "    out = np.array(state, dtype=np.float32)\n",
    "\n",
    "'''\n",
    "\n",
    "# Calculate hidden layers\n",
    "for i in range(len(fc_layers[:-1])):\n",
    "    my_agent += '    out = np.matmul(out, hl{0}_w) + hl{0}_b\\n'.format(i+1)\n",
    "    my_agent += '    out = 1/(1 + np.exp(-out))\\n' # Sigmoid function\n",
    "# Calculate output layer\n",
    "my_agent += '    out = np.matmul(out, ol_w) + ol_b\\n'\n",
    "\n",
    "my_agent += '''\n",
    "    for i in range(configuration.columns):\n",
    "        if observation.board[i] != 0:\n",
    "            out[i] = -1e7\n",
    "\n",
    "    return int(np.argmax(out))\n",
    "    '''"
   ]
  },
  {
   "cell_type": "code",
   "execution_count": null,
   "metadata": {},
   "outputs": [],
   "source": [
    "with open('submission.py', 'w') as f:\n",
    "    f.write(my_agent)"
   ]
  },
  {
   "cell_type": "markdown",
   "metadata": {},
   "source": [
    "<a class=\"anchor\" id=\"evaluate_the_agent\"></a>\n",
    "# Evaluate the agent\n",
    "[Back to Table of Contents](#ToC)"
   ]
  },
  {
   "cell_type": "code",
   "execution_count": null,
   "metadata": {},
   "outputs": [],
   "source": [
    "from submission import my_agent"
   ]
  },
  {
   "cell_type": "markdown",
   "metadata": {},
   "source": [
    "- evaluate関数で他エージェントと戦わせた時の評価が確認可能"
   ]
  },
  {
   "cell_type": "code",
   "execution_count": null,
   "metadata": {},
   "outputs": [
    {
     "name": "stdout",
     "output_type": "stream",
     "text": [
      "My Agent vs. Random Agent: 0.9\n",
      "My Agent vs. Negamax Agent: 0.0\n",
      "Random Agent vs. My Agent: 0.1\n",
      "Negamax Agent vs. My Agent: 1.0\n"
     ]
    }
   ],
   "source": [
    "def mean_reward(rewards):\n",
    "    return sum(r[0] for r in rewards) / sum(r[0] + r[1] for r in rewards)\n",
    "\n",
    "# Run multiple episodes to estimate agent's performance.\n",
    "print(\"My Agent vs. Random Agent:\", mean_reward(evaluate(\"connectx\", [my_agent, \"random\"], num_episodes=10)))\n",
    "print(\"My Agent vs. Negamax Agent:\", mean_reward(evaluate(\"connectx\", [my_agent, \"negamax\"], num_episodes=10)))\n",
    "print(\"Random Agent vs. My Agent:\", mean_reward(evaluate(\"connectx\", [\"random\", my_agent], num_episodes=10)))\n",
    "print(\"Negamax Agent vs. My Agent:\", mean_reward(evaluate(\"connectx\", [\"negamax\", my_agent], num_episodes=10)))"
   ]
  },
  {
   "cell_type": "code",
   "execution_count": null,
   "metadata": {},
   "outputs": [],
   "source": []
  }
 ],
 "metadata": {
  "kernelspec": {
   "display_name": "Python 3",
   "language": "python",
   "name": "python3"
  },
  "language_info": {
   "codemirror_mode": {
    "name": "ipython",
    "version": 3
   },
   "file_extension": ".py",
   "mimetype": "text/x-python",
   "name": "python",
   "nbconvert_exporter": "python",
   "pygments_lexer": "ipython3",
   "version": "3.10.12"
  },
  "widgets": {
   "application/vnd.jupyter.widget-state+json": {
    "state": {
     "2bb604ca73c44780a5a519af91ec7b98": {
      "model_module": "@jupyter-widgets/base",
      "model_module_version": "1.2.0",
      "model_name": "LayoutModel",
      "state": {
       "_model_module": "@jupyter-widgets/base",
       "_model_module_version": "1.2.0",
       "_model_name": "LayoutModel",
       "_view_count": null,
       "_view_module": "@jupyter-widgets/base",
       "_view_module_version": "1.2.0",
       "_view_name": "LayoutView",
       "align_content": null,
       "align_items": null,
       "align_self": null,
       "border": null,
       "bottom": null,
       "display": null,
       "flex": null,
       "flex_flow": null,
       "grid_area": null,
       "grid_auto_columns": null,
       "grid_auto_flow": null,
       "grid_auto_rows": null,
       "grid_column": null,
       "grid_gap": null,
       "grid_row": null,
       "grid_template_areas": null,
       "grid_template_columns": null,
       "grid_template_rows": null,
       "height": null,
       "justify_content": null,
       "justify_items": null,
       "left": null,
       "margin": null,
       "max_height": null,
       "max_width": null,
       "min_height": null,
       "min_width": null,
       "object_fit": null,
       "object_position": null,
       "order": null,
       "overflow": null,
       "overflow_x": null,
       "overflow_y": null,
       "padding": null,
       "right": null,
       "top": null,
       "visibility": null,
       "width": null
      }
     },
     "4045fbb9439545b6b3a245fc26c62f43": {
      "model_module": "@jupyter-widgets/controls",
      "model_module_version": "1.5.0",
      "model_name": "DescriptionStyleModel",
      "state": {
       "_model_module": "@jupyter-widgets/controls",
       "_model_module_version": "1.5.0",
       "_model_name": "DescriptionStyleModel",
       "_view_count": null,
       "_view_module": "@jupyter-widgets/base",
       "_view_module_version": "1.2.0",
       "_view_name": "StyleView",
       "description_width": ""
      }
     },
     "6fd4e91a1ede4b6c8491742b6e0ec90f": {
      "model_module": "@jupyter-widgets/controls",
      "model_module_version": "1.5.0",
      "model_name": "ProgressStyleModel",
      "state": {
       "_model_module": "@jupyter-widgets/controls",
       "_model_module_version": "1.5.0",
       "_model_name": "ProgressStyleModel",
       "_view_count": null,
       "_view_module": "@jupyter-widgets/base",
       "_view_module_version": "1.2.0",
       "_view_name": "StyleView",
       "bar_color": null,
       "description_width": "initial"
      }
     },
     "7f1ce1043a134f31a3045f6bf68da460": {
      "model_module": "@jupyter-widgets/controls",
      "model_module_version": "1.5.0",
      "model_name": "HBoxModel",
      "state": {
       "_dom_classes": [],
       "_model_module": "@jupyter-widgets/controls",
       "_model_module_version": "1.5.0",
       "_model_name": "HBoxModel",
       "_view_count": null,
       "_view_module": "@jupyter-widgets/controls",
       "_view_module_version": "1.5.0",
       "_view_name": "HBoxView",
       "box_style": "",
       "children": [
        "IPY_MODEL_fd21cf4357034b8d954e525b2fef9e82",
        "IPY_MODEL_d92a240e004343aba05a56bf88398ee0"
       ],
       "layout": "IPY_MODEL_d98f1c5a8c594fcabe287eed76232c5b"
      }
     },
     "bfffea7feabb41f0845e4f1e782c3f4a": {
      "model_module": "@jupyter-widgets/base",
      "model_module_version": "1.2.0",
      "model_name": "LayoutModel",
      "state": {
       "_model_module": "@jupyter-widgets/base",
       "_model_module_version": "1.2.0",
       "_model_name": "LayoutModel",
       "_view_count": null,
       "_view_module": "@jupyter-widgets/base",
       "_view_module_version": "1.2.0",
       "_view_name": "LayoutView",
       "align_content": null,
       "align_items": null,
       "align_self": null,
       "border": null,
       "bottom": null,
       "display": null,
       "flex": null,
       "flex_flow": null,
       "grid_area": null,
       "grid_auto_columns": null,
       "grid_auto_flow": null,
       "grid_auto_rows": null,
       "grid_column": null,
       "grid_gap": null,
       "grid_row": null,
       "grid_template_areas": null,
       "grid_template_columns": null,
       "grid_template_rows": null,
       "height": null,
       "justify_content": null,
       "justify_items": null,
       "left": null,
       "margin": null,
       "max_height": null,
       "max_width": null,
       "min_height": null,
       "min_width": null,
       "object_fit": null,
       "object_position": null,
       "order": null,
       "overflow": null,
       "overflow_x": null,
       "overflow_y": null,
       "padding": null,
       "right": null,
       "top": null,
       "visibility": null,
       "width": null
      }
     },
     "d92a240e004343aba05a56bf88398ee0": {
      "model_module": "@jupyter-widgets/controls",
      "model_module_version": "1.5.0",
      "model_name": "HTMLModel",
      "state": {
       "_dom_classes": [],
       "_model_module": "@jupyter-widgets/controls",
       "_model_module_version": "1.5.0",
       "_model_name": "HTMLModel",
       "_view_count": null,
       "_view_module": "@jupyter-widgets/controls",
       "_view_module_version": "1.5.0",
       "_view_name": "HTMLView",
       "description": "",
       "description_tooltip": null,
       "layout": "IPY_MODEL_2bb604ca73c44780a5a519af91ec7b98",
       "placeholder": "​",
       "style": "IPY_MODEL_4045fbb9439545b6b3a245fc26c62f43",
       "value": " 8704/10000 [31:41&lt;05:34,  3.87it/s, episode reward=19.6, avg (100 last) reward=3.98, epsilon=0.907]"
      }
     },
     "d98f1c5a8c594fcabe287eed76232c5b": {
      "model_module": "@jupyter-widgets/base",
      "model_module_version": "1.2.0",
      "model_name": "LayoutModel",
      "state": {
       "_model_module": "@jupyter-widgets/base",
       "_model_module_version": "1.2.0",
       "_model_name": "LayoutModel",
       "_view_count": null,
       "_view_module": "@jupyter-widgets/base",
       "_view_module_version": "1.2.0",
       "_view_name": "LayoutView",
       "align_content": null,
       "align_items": null,
       "align_self": null,
       "border": null,
       "bottom": null,
       "display": null,
       "flex": null,
       "flex_flow": null,
       "grid_area": null,
       "grid_auto_columns": null,
       "grid_auto_flow": null,
       "grid_auto_rows": null,
       "grid_column": null,
       "grid_gap": null,
       "grid_row": null,
       "grid_template_areas": null,
       "grid_template_columns": null,
       "grid_template_rows": null,
       "height": null,
       "justify_content": null,
       "justify_items": null,
       "left": null,
       "margin": null,
       "max_height": null,
       "max_width": null,
       "min_height": null,
       "min_width": null,
       "object_fit": null,
       "object_position": null,
       "order": null,
       "overflow": null,
       "overflow_x": null,
       "overflow_y": null,
       "padding": null,
       "right": null,
       "top": null,
       "visibility": null,
       "width": null
      }
     },
     "fd21cf4357034b8d954e525b2fef9e82": {
      "model_module": "@jupyter-widgets/controls",
      "model_module_version": "1.5.0",
      "model_name": "IntProgressModel",
      "state": {
       "_dom_classes": [],
       "_model_module": "@jupyter-widgets/controls",
       "_model_module_version": "1.5.0",
       "_model_name": "IntProgressModel",
       "_view_count": null,
       "_view_module": "@jupyter-widgets/controls",
       "_view_module_version": "1.5.0",
       "_view_name": "ProgressView",
       "bar_style": "",
       "description": " 87%",
       "description_tooltip": null,
       "layout": "IPY_MODEL_bfffea7feabb41f0845e4f1e782c3f4a",
       "max": 10000,
       "min": 0,
       "orientation": "horizontal",
       "style": "IPY_MODEL_6fd4e91a1ede4b6c8491742b6e0ec90f",
       "value": 8704
      }
     }
    },
    "version_major": 2,
    "version_minor": 0
   }
  }
 },
 "nbformat": 4,
 "nbformat_minor": 4
}
